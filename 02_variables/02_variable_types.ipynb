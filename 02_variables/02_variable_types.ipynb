{
 "cells": [
  {
   "cell_type": "markdown",
   "id": "190d8b64",
   "metadata": {},
   "source": [
    "## Types of Variables\n",
    "### 1. Integer"
   ]
  },
  {
   "cell_type": "code",
   "execution_count": 1,
   "id": "13506d0d",
   "metadata": {},
   "outputs": [
    {
     "name": "stdout",
     "output_type": "stream",
     "text": [
      "<class 'int'>\n"
     ]
    }
   ],
   "source": [
    "age = 10\n",
    "print(type(age))"
   ]
  },
  {
   "cell_type": "markdown",
   "id": "2cd15b9b",
   "metadata": {},
   "source": [
    "### 2. Floating"
   ]
  },
  {
   "cell_type": "code",
   "execution_count": 2,
   "id": "bc4db9b0",
   "metadata": {},
   "outputs": [
    {
     "data": {
      "text/plain": [
       "float"
      ]
     },
     "execution_count": 2,
     "metadata": {},
     "output_type": "execute_result"
    }
   ],
   "source": [
    "temperature = 10.2\n",
    "type(temperature)"
   ]
  },
  {
   "cell_type": "markdown",
   "id": "e3876319",
   "metadata": {},
   "source": [
    "### 3. String"
   ]
  },
  {
   "cell_type": "code",
   "execution_count": 3,
   "id": "aca5a3d0",
   "metadata": {},
   "outputs": [
    {
     "name": "stdout",
     "output_type": "stream",
     "text": [
      "<class 'str'>\n"
     ]
    }
   ],
   "source": [
    "greetings = \"Hello, Codanians!\"\n",
    "print(type(greetings))"
   ]
  },
  {
   "cell_type": "markdown",
   "id": "0167a127",
   "metadata": {},
   "source": [
    "### 4. Boolean"
   ]
  },
  {
   "cell_type": "code",
   "execution_count": 4,
   "id": "a08c9ce8",
   "metadata": {},
   "outputs": [
    {
     "name": "stdout",
     "output_type": "stream",
     "text": [
      "<class 'bool'>\n"
     ]
    },
    {
     "data": {
      "text/plain": [
       "bool"
      ]
     },
     "execution_count": 4,
     "metadata": {},
     "output_type": "execute_result"
    }
   ],
   "source": [
    "is_raining = True\n",
    "print(type(is_raining))\n",
    "type(is_raining)"
   ]
  },
  {
   "cell_type": "markdown",
   "id": "784db2a5",
   "metadata": {},
   "source": [
    "### 5. list"
   ]
  },
  {
   "cell_type": "code",
   "execution_count": 5,
   "id": "0e7a39c7",
   "metadata": {},
   "outputs": [
    {
     "name": "stdout",
     "output_type": "stream",
     "text": [
      "<class 'list'>\n",
      "<class 'list'>\n"
     ]
    }
   ],
   "source": [
    "numbers = [1, 2, 3, 4, 5]\n",
    "print(type(numbers))\n",
    "\n",
    "names = [\"Bilal\", \"Rashid\", \"Irfan\", \"Ali\"]\n",
    "print(type(names))"
   ]
  },
  {
   "cell_type": "markdown",
   "id": "23fc9cf7",
   "metadata": {},
   "source": [
    "### 6. tuple"
   ]
  },
  {
   "cell_type": "code",
   "execution_count": 6,
   "id": "8f2436cd",
   "metadata": {},
   "outputs": [
    {
     "name": "stdout",
     "output_type": "stream",
     "text": [
      "<class 'tuple'>\n"
     ]
    }
   ],
   "source": [
    "prices = (10, 20, 30, 40, 50)\n",
    "print(type(prices))"
   ]
  },
  {
   "cell_type": "markdown",
   "id": "1b144b89",
   "metadata": {},
   "source": [
    "### 7. dictionary"
   ]
  },
  {
   "cell_type": "code",
   "execution_count": 7,
   "id": "6df6a8b7",
   "metadata": {},
   "outputs": [
    {
     "name": "stdout",
     "output_type": "stream",
     "text": [
      "<class 'dict'>\n"
     ]
    }
   ],
   "source": [
    "persons = {\"name\": \"Bilal\", \"age\": 25}\n",
    "print(type(persons))"
   ]
  },
  {
   "cell_type": "markdown",
   "id": "4e4512ca",
   "metadata": {},
   "source": [
    "### 8. set"
   ]
  },
  {
   "cell_type": "code",
   "execution_count": 8,
   "id": "6c9a58fa",
   "metadata": {},
   "outputs": [
    {
     "name": "stdout",
     "output_type": "stream",
     "text": [
      "<class 'set'>\n"
     ]
    }
   ],
   "source": [
    "set = {1, 2, 3, 4, 5}\n",
    "print(type(set))\n"
   ]
  },
  {
   "cell_type": "markdown",
   "id": "7bf91b90",
   "metadata": {},
   "source": [
    "### 9. NoneType"
   ]
  },
  {
   "cell_type": "code",
   "execution_count": 9,
   "id": "3f8c7d40",
   "metadata": {},
   "outputs": [
    {
     "name": "stdout",
     "output_type": "stream",
     "text": [
      "<class 'NoneType'>\n"
     ]
    }
   ],
   "source": [
    "result = None\n",
    "print(type(result))"
   ]
  },
  {
   "cell_type": "markdown",
   "id": "ec6b3d0e",
   "metadata": {},
   "source": [
    "### 10. Complex"
   ]
  },
  {
   "cell_type": "code",
   "execution_count": 10,
   "id": "2aa8bea4",
   "metadata": {},
   "outputs": [
    {
     "name": "stdout",
     "output_type": "stream",
     "text": [
      "<class 'complex'>\n"
     ]
    }
   ],
   "source": [
    "complex = 1 + 2j\n",
    "print(type(complex))"
   ]
  }
 ],
 "metadata": {
  "kernelspec": {
   "display_name": "base",
   "language": "python",
   "name": "python3"
  },
  "language_info": {
   "codemirror_mode": {
    "name": "ipython",
    "version": 3
   },
   "file_extension": ".py",
   "mimetype": "text/x-python",
   "name": "python",
   "nbconvert_exporter": "python",
   "pygments_lexer": "ipython3",
   "version": "3.13.5"
  }
 },
 "nbformat": 4,
 "nbformat_minor": 5
}
