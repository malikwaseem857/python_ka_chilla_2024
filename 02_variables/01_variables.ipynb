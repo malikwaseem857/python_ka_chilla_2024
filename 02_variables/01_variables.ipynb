{
 "cells": [
  {
   "cell_type": "markdown",
   "id": "757c9b5d",
   "metadata": {},
   "source": [
    "\n",
    "# Variables and types\n",
    "## Variables\n",
    "### Variable is a name that refers to a value. The value can be changed, hence the name variable. In Python, variables can be declared and values can be assigned to it as follows: These are the types of variables in Python:\n",
    "\n",
    "- 1. Numbers\n",
    "- 2. String\n",
    "- 3. List\n",
    "- 4. Tuple\n",
    "- 5. Dictionary\n",
    "- 6. Set\n",
    "- 7. Boolean"
   ]
  },
  {
   "cell_type": "code",
   "execution_count": 1,
   "id": "d8c5ded5",
   "metadata": {},
   "outputs": [],
   "source": [
    "age = 20"
   ]
  },
  {
   "cell_type": "code",
   "execution_count": 2,
   "id": "b6abb0e0",
   "metadata": {},
   "outputs": [],
   "source": [
    "age = age + 1"
   ]
  },
  {
   "cell_type": "code",
   "execution_count": 3,
   "id": "744556c9",
   "metadata": {},
   "outputs": [
    {
     "name": "stdout",
     "output_type": "stream",
     "text": [
      "21\n"
     ]
    }
   ],
   "source": [
    "print(age)"
   ]
  },
  {
   "cell_type": "code",
   "execution_count": 4,
   "id": "d651cbc5",
   "metadata": {},
   "outputs": [
    {
     "name": "stdout",
     "output_type": "stream",
     "text": [
      "I am 21 years old\n"
     ]
    }
   ],
   "source": [
    "print(\"I am\", age, \"years old\")\n"
   ]
  },
  {
   "cell_type": "code",
   "execution_count": 5,
   "id": "abb83f30",
   "metadata": {},
   "outputs": [],
   "source": [
    "name = 'Waseem'"
   ]
  },
  {
   "cell_type": "code",
   "execution_count": 6,
   "id": "f9054429",
   "metadata": {},
   "outputs": [
    {
     "name": "stdout",
     "output_type": "stream",
     "text": [
      "My name is Waseem\n"
     ]
    }
   ],
   "source": [
    "print(\"My name is\", name)"
   ]
  },
  {
   "cell_type": "code",
   "execution_count": 7,
   "id": "114daec3",
   "metadata": {},
   "outputs": [],
   "source": [
    "is_student = False"
   ]
  },
  {
   "cell_type": "code",
   "execution_count": 8,
   "id": "22b03a7f",
   "metadata": {},
   "outputs": [
    {
     "name": "stdout",
     "output_type": "stream",
     "text": [
      "Am I a student? False\n"
     ]
    }
   ],
   "source": [
    "print(\"Am I a student?\", is_student)"
   ]
  },
  {
   "cell_type": "code",
   "execution_count": 10,
   "id": "84103226",
   "metadata": {},
   "outputs": [],
   "source": [
    "height = 5.10"
   ]
  },
  {
   "cell_type": "code",
   "execution_count": 11,
   "id": "8c0d3562",
   "metadata": {},
   "outputs": [
    {
     "name": "stdout",
     "output_type": "stream",
     "text": [
      "My height is 5.1 feet\n"
     ]
    }
   ],
   "source": [
    "print(\"My height is\", height, \"feet\")"
   ]
  }
 ],
 "metadata": {
  "kernelspec": {
   "display_name": "base",
   "language": "python",
   "name": "python3"
  },
  "language_info": {
   "codemirror_mode": {
    "name": "ipython",
    "version": 3
   },
   "file_extension": ".py",
   "mimetype": "text/x-python",
   "name": "python",
   "nbconvert_exporter": "python",
   "pygments_lexer": "ipython3",
   "version": "3.13.5"
  }
 },
 "nbformat": 4,
 "nbformat_minor": 5
}
