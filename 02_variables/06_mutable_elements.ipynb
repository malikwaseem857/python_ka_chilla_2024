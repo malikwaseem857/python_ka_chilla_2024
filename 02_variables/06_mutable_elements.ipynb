{
 "cells": [
  {
   "cell_type": "markdown",
   "id": "44349c2c",
   "metadata": {},
   "source": [
    "Mutable elements"
   ]
  },
  {
   "cell_type": "code",
   "execution_count": 1,
   "id": "7ad59cb1",
   "metadata": {},
   "outputs": [],
   "source": [
    "list = [\"Waseem\", \"Ali\", \"Ahmed\", \"Waseem\", \"Ali\", \"Ahmed\"]"
   ]
  },
  {
   "cell_type": "code",
   "execution_count": 2,
   "id": "cad43eae",
   "metadata": {},
   "outputs": [
    {
     "name": "stdout",
     "output_type": "stream",
     "text": [
      "['Waseem', 'Ali', 'Ahmed', 'Waseem', 'Ali', 'Ahmed']\n"
     ]
    }
   ],
   "source": [
    "print(list)"
   ]
  },
  {
   "cell_type": "code",
   "execution_count": 3,
   "id": "5e9a9f54",
   "metadata": {},
   "outputs": [
    {
     "ename": "TypeError",
     "evalue": "'tuple' object does not support item assignment",
     "output_type": "error",
     "traceback": [
      "\u001b[31m---------------------------------------------------------------------------\u001b[39m",
      "\u001b[31mTypeError\u001b[39m                                 Traceback (most recent call last)",
      "\u001b[36mCell\u001b[39m\u001b[36m \u001b[39m\u001b[32mIn[3]\u001b[39m\u001b[32m, line 2\u001b[39m\n\u001b[32m      1\u001b[39m \u001b[38;5;28mtuple\u001b[39m = (\u001b[33m\"\u001b[39m\u001b[33mAammar\u001b[39m\u001b[33m\"\u001b[39m, \u001b[33m\"\u001b[39m\u001b[33mAli\u001b[39m\u001b[33m\"\u001b[39m, \u001b[33m\"\u001b[39m\u001b[33mAhmed\u001b[39m\u001b[33m\"\u001b[39m, \u001b[33m\"\u001b[39m\u001b[33mAammar\u001b[39m\u001b[33m\"\u001b[39m, \u001b[33m\"\u001b[39m\u001b[33mAli\u001b[39m\u001b[33m\"\u001b[39m, \u001b[33m\"\u001b[39m\u001b[33mAhmed\u001b[39m\u001b[33m\"\u001b[39m)\n\u001b[32m----> \u001b[39m\u001b[32m2\u001b[39m \u001b[38;5;28;43mtuple\u001b[39;49m\u001b[43m[\u001b[49m\u001b[32;43m3\u001b[39;49m\u001b[43m]\u001b[49m = \u001b[33m\"\u001b[39m\u001b[33mHammad\u001b[39m\u001b[33m\"\u001b[39m\n\u001b[32m      3\u001b[39m \u001b[38;5;28mprint\u001b[39m(\u001b[38;5;28mtuple\u001b[39m)\n",
      "\u001b[31mTypeError\u001b[39m: 'tuple' object does not support item assignment"
     ]
    }
   ],
   "source": [
    "tuple = (\"Aammar\", \"Ali\", \"Ahmed\", \"Aammar\", \"Ali\", \"Ahmed\")\n",
    "tuple[3] = \"Hammad\"\n",
    "print(tuple)"
   ]
  },
  {
   "cell_type": "code",
   "execution_count": null,
   "id": "7e95f11f",
   "metadata": {},
   "outputs": [
    {
     "name": "stdout",
     "output_type": "stream",
     "text": [
      "['Aammar', 'Ali', 'Ahmed', 'Hammad', 'Ali', 'Ahmed']\n"
     ]
    }
   ],
   "source": [
    "# assigmnment \n",
    "names = [\"Aammar\", \"Ali\", \"Ahmed\", \"Aammar\", \"Ali\", \"Ahmed\"]\n",
    "names[3] = \"Hammad\"\n",
    "print(names)"
   ]
  }
 ],
 "metadata": {
  "kernelspec": {
   "display_name": "base",
   "language": "python",
   "name": "python3"
  },
  "language_info": {
   "codemirror_mode": {
    "name": "ipython",
    "version": 3
   },
   "file_extension": ".py",
   "mimetype": "text/x-python",
   "name": "python",
   "nbconvert_exporter": "python",
   "pygments_lexer": "ipython3",
   "version": "3.13.5"
  }
 },
 "nbformat": 4,
 "nbformat_minor": 5
}
