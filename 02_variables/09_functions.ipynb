{
 "cells": [
  {
   "cell_type": "markdown",
   "id": "ea8e3c6a",
   "metadata": {},
   "source": [
    "# Functions"
   ]
  },
  {
   "cell_type": "markdown",
   "id": "2260e8ee",
   "metadata": {
    "vscode": {
     "languageId": "plaintext"
    }
   },
   "source": [
    "## Builtin functions"
   ]
  },
  {
   "cell_type": "code",
   "execution_count": 1,
   "id": "5e7ddb69",
   "metadata": {},
   "outputs": [
    {
     "name": "stdout",
     "output_type": "stream",
     "text": [
      "1650\n"
     ]
    },
    {
     "data": {
      "text/plain": [
       "1650"
      ]
     },
     "execution_count": 1,
     "metadata": {},
     "output_type": "execute_result"
    }
   ],
   "source": [
    "prices = [200,300,600,550]\n",
    "print(200+300+600+550)\n",
    "sum(prices)"
   ]
  },
  {
   "cell_type": "code",
   "execution_count": 2,
   "id": "0e7d27b0",
   "metadata": {},
   "outputs": [
    {
     "data": {
      "text/plain": [
       "600"
      ]
     },
     "execution_count": 2,
     "metadata": {},
     "output_type": "execute_result"
    }
   ],
   "source": [
    "max(prices)"
   ]
  },
  {
   "cell_type": "code",
   "execution_count": 3,
   "id": "3e4642e4",
   "metadata": {},
   "outputs": [
    {
     "data": {
      "text/plain": [
       "200"
      ]
     },
     "execution_count": 3,
     "metadata": {},
     "output_type": "execute_result"
    }
   ],
   "source": [
    "min(prices)\n"
   ]
  },
  {
   "cell_type": "code",
   "execution_count": 4,
   "id": "393a5bb9",
   "metadata": {},
   "outputs": [
    {
     "name": "stdout",
     "output_type": "stream",
     "text": [
      "412.5\n"
     ]
    }
   ],
   "source": [
    "mean = sum(prices)/len(prices)\n",
    "print(mean)"
   ]
  },
  {
   "cell_type": "markdown",
   "id": "9c00b90f",
   "metadata": {},
   "source": [
    "## User defined functions"
   ]
  },
  {
   "cell_type": "code",
   "execution_count": 5,
   "id": "8124ebe0",
   "metadata": {},
   "outputs": [],
   "source": [
    "def greet(name):\n",
    "    \"\"\"This function greets to the person passed in as a parameter\"\"\"\n",
    "    print(\"Hello, \" + name + \". Aslam-o-Alaekum!\")"
   ]
  },
  {
   "cell_type": "code",
   "execution_count": 6,
   "id": "322de9ed",
   "metadata": {},
   "outputs": [
    {
     "name": "stdout",
     "output_type": "stream",
     "text": [
      "Hello, Shahbaz. Aslam-o-Alaekum!\n"
     ]
    }
   ],
   "source": [
    "greet(\"Shahbaz\")"
   ]
  },
  {
   "cell_type": "markdown",
   "id": "67d3ffda",
   "metadata": {},
   "source": [
    "## define mean functions"
   ]
  },
  {
   "cell_type": "code",
   "execution_count": 7,
   "id": "2634beb0",
   "metadata": {},
   "outputs": [],
   "source": [
    "def mean_of_list(numbers):\n",
    "    \"\"\"This function calculates the mean of a list of numbers\"\"\"\n",
    "    # return the mean and round it off to 2 decimal places\n",
    "    return round(sum(numbers) / len(numbers), 3)"
   ]
  },
  {
   "cell_type": "code",
   "execution_count": 8,
   "id": "29ad001c",
   "metadata": {},
   "outputs": [
    {
     "data": {
      "text/plain": [
       "968.667"
      ]
     },
     "execution_count": 8,
     "metadata": {},
     "output_type": "execute_result"
    }
   ],
   "source": [
    "price = [200,300,600,550,566,1000,2000,3500,2]\n",
    "mean_of_list(price)\n"
   ]
  },
  {
   "cell_type": "code",
   "execution_count": 9,
   "id": "3a3fb04d",
   "metadata": {},
   "outputs": [
    {
     "name": "stdout",
     "output_type": "stream",
     "text": [
      "\u001b[31mSignature:\u001b[39m mean_of_list(numbers)\n",
      "\u001b[31mDocstring:\u001b[39m This function calculates the mean of a list of numbers\n",
      "\u001b[31mFile:\u001b[39m      c:\\users\\waseem akram\\appdata\\local\\temp\\ipykernel_1372\\2300624624.py\n",
      "\u001b[31mType:\u001b[39m      function"
     ]
    }
   ],
   "source": [
    "?mean_of_list"
   ]
  },
  {
   "cell_type": "code",
   "execution_count": 10,
   "id": "7f90803f",
   "metadata": {},
   "outputs": [],
   "source": [
    "def add(a,b,c):\n",
    "    \"\"\"This function adds three numbers\"\"\"\n",
    "    return a+b+c"
   ]
  },
  {
   "cell_type": "code",
   "execution_count": 11,
   "id": "8b823e74",
   "metadata": {},
   "outputs": [
    {
     "data": {
      "text/plain": [
       "10"
      ]
     },
     "execution_count": 11,
     "metadata": {},
     "output_type": "execute_result"
    }
   ],
   "source": [
    "add(2,3,5)"
   ]
  },
  {
   "cell_type": "code",
   "execution_count": 12,
   "id": "f9ac2794",
   "metadata": {},
   "outputs": [],
   "source": [
    "def introduce(name, age):\n",
    "    \"\"\"This function introduces a person\"\"\"\n",
    "    print(\"Hello, my name is \" + name + \" and I am \" + str(age) + \" years old.\")"
   ]
  },
  {
   "cell_type": "code",
   "execution_count": 13,
   "id": "749d2415",
   "metadata": {},
   "outputs": [
    {
     "name": "stdout",
     "output_type": "stream",
     "text": [
      "Hello, my name is Abdul and I am 20 years old.\n"
     ]
    }
   ],
   "source": [
    "introduce(\"Abdul\", 20)"
   ]
  },
  {
   "cell_type": "code",
   "execution_count": 14,
   "id": "c539d106",
   "metadata": {},
   "outputs": [],
   "source": [
    "# function without parameters\n",
    "def say_hello():\n",
    "    \"\"\"This function just prints hello\"\"\"\n",
    "    print(\"Hello, from Codanics Youtube Channel!\")"
   ]
  },
  {
   "cell_type": "code",
   "execution_count": 15,
   "id": "8ebe887a",
   "metadata": {},
   "outputs": [
    {
     "name": "stdout",
     "output_type": "stream",
     "text": [
      "Hello, from Codanics Youtube Channel!\n"
     ]
    }
   ],
   "source": [
    "say_hello()"
   ]
  },
  {
   "cell_type": "code",
   "execution_count": 16,
   "id": "c8e8ec4e",
   "metadata": {},
   "outputs": [],
   "source": [
    "# function without parameters\n",
    "def say_hello(name):\n",
    "    \"\"\"This function will greet the person passed in as a parameter\"\"\"\n",
    "    print(\"Hello, \" + name + \" from Codanics Youtube Channel!\")\n"
   ]
  },
  {
   "cell_type": "code",
   "execution_count": 17,
   "id": "04b2d9e3",
   "metadata": {},
   "outputs": [
    {
     "name": "stdout",
     "output_type": "stream",
     "text": [
      "Hello, Waseem from Codanics Youtube Channel!\n"
     ]
    }
   ],
   "source": [
    "say_hello(\"Waseem\")"
   ]
  },
  {
   "cell_type": "code",
   "execution_count": 18,
   "id": "635392e7",
   "metadata": {},
   "outputs": [],
   "source": [
    "# function with default parameter\n",
    "def greet(name=\"Ali\"):\n",
    "    \"\"\"This function greets to the person passed in as a parameter\"\"\"\n",
    "    print(\"Hello, \" + name + \" from Codanics Youtube Channel!\")"
   ]
  },
  {
   "cell_type": "code",
   "execution_count": 19,
   "id": "2ee3bb95",
   "metadata": {},
   "outputs": [
    {
     "ename": "SyntaxError",
     "evalue": "invalid syntax (3267088038.py, line 2)",
     "output_type": "error",
     "traceback": [
      "  \u001b[36mCell\u001b[39m\u001b[36m \u001b[39m\u001b[32mIn[19]\u001b[39m\u001b[32m, line 2\u001b[39m\n\u001b[31m    \u001b[39m\u001b[31mHello, Ali from Codanics Youtube Channel!\u001b[39m\n               ^\n\u001b[31mSyntaxError\u001b[39m\u001b[31m:\u001b[39m invalid syntax\n"
     ]
    }
   ],
   "source": [
    "greet()\n",
    "Hello, Ali from Codanics Youtube Channel!"
   ]
  }
 ],
 "metadata": {
  "kernelspec": {
   "display_name": "base",
   "language": "python",
   "name": "python3"
  },
  "language_info": {
   "codemirror_mode": {
    "name": "ipython",
    "version": 3
   },
   "file_extension": ".py",
   "mimetype": "text/x-python",
   "name": "python",
   "nbconvert_exporter": "python",
   "pygments_lexer": "ipython3",
   "version": "3.13.5"
  }
 },
 "nbformat": 4,
 "nbformat_minor": 5
}
