{
 "cells": [
  {
   "cell_type": "markdown",
   "id": "0b71bed7",
   "metadata": {},
   "source": [
    "## Asignment Lamda function \n",
    "### 10 Desi Examples \n",
    "### Auther: Waseem Akram\n",
    "### Date: 06-09-2025"
   ]
  },
  {
   "cell_type": "code",
   "execution_count": 2,
   "id": "ba836d11",
   "metadata": {},
   "outputs": [
    {
     "name": "stdout",
     "output_type": "stream",
     "text": [
      "Aam ka season guthli tak kha jao!\n"
     ]
    }
   ],
   "source": [
    "# 1. Mango Season Detector\n",
    "mango = lambda month: \"Aam ka season guthli tak kha jao!\" if month in [\"June\",\"July\"] else \" No aam, bas dukhi zindagi!\"\n",
    "print(mango(\"July\"))\n"
   ]
  },
  {
   "cell_type": "code",
   "execution_count": 3,
   "id": "0a97cca9",
   "metadata": {},
   "outputs": [
    {
     "name": "stdout",
     "output_type": "stream",
     "text": [
      " Bhai pehle committee dal lo!\n"
     ]
    }
   ],
   "source": [
    "# 2. Shaadi Loan Approval\n",
    "shaadi_loan = lambda pocket_money: \"Shaadi possible\" if pocket_money >= 500000 else \" Bhai pehle committee dal lo!\"\n",
    "print(shaadi_loan(200000))\n"
   ]
  },
  {
   "cell_type": "code",
   "execution_count": 4,
   "id": "fb902237",
   "metadata": {},
   "outputs": [
    {
     "name": "stdout",
     "output_type": "stream",
     "text": [
      "Sirf 1 plate? lagta hy achi nh lagi apko?\n"
     ]
    }
   ],
   "source": [
    "# 3. Biryani Plate Check\n",
    "biryani = lambda plates: \"Full waqas Baryani!\" if plates >= 2 else \"Sirf 1 plate? lagta hy achi nh lagi apko?\"\n",
    "print(biryani(1))"
   ]
  },
  {
   "cell_type": "code",
   "execution_count": 5,
   "id": "8e444bb3",
   "metadata": {},
   "outputs": [
    {
     "name": "stdout",
     "output_type": "stream",
     "text": [
      "Yango book kra leta hn: 50 rupees thek hn, pedal nh ja skta!\n"
     ]
    }
   ],
   "source": [
    "# 4. Distance  Negotiation\n",
    "yango = lambda km: f\"Yango book kra leta hn: {km*10} rupees thek hn, pedal nh ja skta!\"\n",
    "print(yango(5))"
   ]
  },
  {
   "cell_type": "code",
   "execution_count": 6,
   "id": "df5f6ca9",
   "metadata": {},
   "outputs": [
    {
     "name": "stdout",
     "output_type": "stream",
     "text": [
      "tujh se na ho pay ga dost!\n"
     ]
    }
   ],
   "source": [
    "# 5. Gym Membership Justification\n",
    "gym = lambda visits: \"thora body ban jyge!\" if visits > 20 else \"tujh se na ho pay ga dost!\"\n",
    "print(gym(8))"
   ]
  },
  {
   "cell_type": "code",
   "execution_count": 7,
   "id": "c56e7de2",
   "metadata": {},
   "outputs": [
    {
     "name": "stdout",
     "output_type": "stream",
     "text": [
      "yr apna wifi kabi chez nh hona\n"
     ]
    }
   ],
   "source": [
    "# 6. Harmy Hostel ki wifi speed\n",
    "net_speed = lambda mbps: \" wah aj kesa net acha chal rha hy\" if mbps >= 20 else \"yr apna wifi kabi chez nh hona\"\n",
    "print(net_speed(5))\n"
   ]
  },
  {
   "cell_type": "code",
   "execution_count": 8,
   "id": "aaa66f7f",
   "metadata": {},
   "outputs": [
    {
     "name": "stdout",
     "output_type": "stream",
     "text": [
      " kitni backat kr le bhai ne mjhy baryani na khela kr: 1200\n"
     ]
    }
   ],
   "source": [
    "# 7. Salary Calculator\n",
    "salary = lambda chachas: f\" kitni backat kr le bhai ne mjhy baryani na khela kr: {chachas*200}\"\n",
    "print(salary(6))"
   ]
  },
  {
   "cell_type": "code",
   "execution_count": 9,
   "id": "7597d086",
   "metadata": {},
   "outputs": [
    {
     "name": "stdout",
     "output_type": "stream",
     "text": [
      "Tery kuch nh banana bety!\n"
     ]
    }
   ],
   "source": [
    "# 8. Sleep Quality\n",
    "sleep = lambda hours: \" MashaAllah neend puri\" if hours >= 8 else \"Tery kuch nh banana bety!\"\n",
    "print(sleep(4))"
   ]
  },
  {
   "cell_type": "code",
   "execution_count": 10,
   "id": "bd6a4493",
   "metadata": {},
   "outputs": [
    {
     "name": "stdout",
     "output_type": "stream",
     "text": [
      "Thoda aur practice kar.\n"
     ]
    }
   ],
   "source": [
    "# 9. Gol Gappay Challenge\n",
    "gol_gappa = lambda count: \"Bhai tu toh gol gappa king hai!\" if count >= 30 else \"Thoda aur practice kar.\"\n",
    "print(gol_gappa(25))\n"
   ]
  },
  {
   "cell_type": "code",
   "execution_count": 11,
   "id": "7d21c020",
   "metadata": {},
   "outputs": [
    {
     "name": "stdout",
     "output_type": "stream",
     "text": [
      "Toss jeeta, bas ab match haarna baaki hai!\n"
     ]
    }
   ],
   "source": [
    "# 10. Cricket Toss Drama\n",
    "toss = lambda win: \"Toss jeeta, bas ab match haarna baaki hai!\" if win else \"Toss har gy ham nh khelty?\"\n",
    "print(toss(True))"
   ]
  }
 ],
 "metadata": {
  "kernelspec": {
   "display_name": "base",
   "language": "python",
   "name": "python3"
  },
  "language_info": {
   "codemirror_mode": {
    "name": "ipython",
    "version": 3
   },
   "file_extension": ".py",
   "mimetype": "text/x-python",
   "name": "python",
   "nbconvert_exporter": "python",
   "pygments_lexer": "ipython3",
   "version": "3.13.5"
  }
 },
 "nbformat": 4,
 "nbformat_minor": 5
}
