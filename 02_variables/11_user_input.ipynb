{
 "cells": [
  {
   "cell_type": "markdown",
   "id": "54fd1f3a",
   "metadata": {},
   "source": [
    "## User Input"
   ]
  },
  {
   "cell_type": "code",
   "execution_count": 4,
   "id": "0939b84f",
   "metadata": {},
   "outputs": [],
   "source": [
    "age = input(\"My age is: \")\n",
    "age = int(age)\n"
   ]
  },
  {
   "cell_type": "code",
   "execution_count": 3,
   "id": "56835c12",
   "metadata": {},
   "outputs": [],
   "source": [
    "age_01 = int(input(\"My age is: \"))"
   ]
  },
  {
   "cell_type": "code",
   "execution_count": 5,
   "id": "daa438a0",
   "metadata": {},
   "outputs": [
    {
     "name": "stdout",
     "output_type": "stream",
     "text": [
      "Hello, Waseem!\n"
     ]
    }
   ],
   "source": [
    "name = input(\"My name is: \")\n",
    "\n",
    "print(\"Hello, \" + name + \"!\")"
   ]
  },
  {
   "cell_type": "code",
   "execution_count": 6,
   "id": "33c9dd92",
   "metadata": {},
   "outputs": [],
   "source": [
    "learning = input(\"I am learning from following youtube channel: \")"
   ]
  },
  {
   "cell_type": "code",
   "execution_count": 8,
   "id": "cf52c679",
   "metadata": {},
   "outputs": [],
   "source": [
    "cell_number = input(\"My cell number is: \")\n",
    "cell_number = int(cell_number)"
   ]
  },
  {
   "cell_type": "markdown",
   "id": "657b4159",
   "metadata": {},
   "source": [
    "validation of input"
   ]
  },
  {
   "cell_type": "code",
   "execution_count": 7,
   "id": "be6697cf",
   "metadata": {},
   "outputs": [
    {
     "name": "stdout",
     "output_type": "stream",
     "text": [
      "Your age is:  28\n"
     ]
    }
   ],
   "source": [
    "age = input(\"Write your age: \")\n",
    "\n",
    "if age.isdigit():\n",
    "    age = int(age)\n",
    "    print(\"Your age is: \", age)\n",
    "else:\n",
    "    print(\"Warning! Invalid input, write age in numeric form.\")"
   ]
  },
  {
   "cell_type": "markdown",
   "id": "bb472d80",
   "metadata": {},
   "source": [
    "## Assignment: If user input is a float number it should give us the same answer as int number. Please correct the code below."
   ]
  },
  {
   "cell_type": "code",
   "execution_count": 9,
   "id": "a3630e30",
   "metadata": {},
   "outputs": [
    {
     "name": "stdout",
     "output_type": "stream",
     "text": [
      "Warning! Invalid input, write age in numeric form.\n"
     ]
    }
   ],
   "source": [
    "age = input(\"Write your age: \")\n",
    "\n",
    "if age.isdigit():\n",
    "    age = int(age)\n",
    "    print(\"Your age is: \", age)\n",
    "else:\n",
    "    print(\"Warning! Invalid input, write age in numeric form.\")"
   ]
  },
  {
   "cell_type": "code",
   "execution_count": null,
   "id": "cfcf7bc5",
   "metadata": {},
   "outputs": [
    {
     "name": "stdout",
     "output_type": "stream",
     "text": [
      "Your age is: 27.5\n"
     ]
    }
   ],
   "source": [
    "## solution\n",
    "age = input(\"Write your age: \")\n",
    "\n",
    "try:\n",
    "    age = float(age)   # Pehle float me convert karo\n",
    "    if age.is_integer():   # Agar 20.0 jaisa hai\n",
    "        age = int(age)\n",
    "    print(\"Your age is:\", age)\n",
    "except ValueError:\n",
    "    print(\"Warning! Invalid input, write age in numeric form.\")\n"
   ]
  },
  {
   "cell_type": "code",
   "execution_count": 2,
   "id": "83a2fe4a",
   "metadata": {},
   "outputs": [
    {
     "name": "stdout",
     "output_type": "stream",
     "text": [
      "Hello, waseem! Your age is: 28\n"
     ]
    }
   ],
   "source": [
    "name = input(\"Write your name: \")\n",
    "age = input(\"Write your age: \")\n",
    "print(\"Hello, \" + name + \"! Your age is: \" + age)"
   ]
  },
  {
   "cell_type": "code",
   "execution_count": 5,
   "id": "75dcccf5",
   "metadata": {},
   "outputs": [
    {
     "name": "stdout",
     "output_type": "stream",
     "text": [
      "Hello, Waseem! Your age is: 27\n"
     ]
    }
   ],
   "source": [
    "name, age = input(\"Write your name and age separated by a space: \").split()\n",
    "print(\"Hello, \" + name + \"! Your age is: \" + age)"
   ]
  }
 ],
 "metadata": {
  "kernelspec": {
   "display_name": "base",
   "language": "python",
   "name": "python3"
  },
  "language_info": {
   "codemirror_mode": {
    "name": "ipython",
    "version": 3
   },
   "file_extension": ".py",
   "mimetype": "text/x-python",
   "name": "python",
   "nbconvert_exporter": "python",
   "pygments_lexer": "ipython3",
   "version": "3.13.5"
  }
 },
 "nbformat": 4,
 "nbformat_minor": 5
}
