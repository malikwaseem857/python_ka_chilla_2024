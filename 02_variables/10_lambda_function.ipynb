{
 "cells": [
  {
   "cell_type": "markdown",
   "id": "c0a121df",
   "metadata": {},
   "source": [
    "## Lambda functions"
   ]
  },
  {
   "cell_type": "code",
   "execution_count": 1,
   "id": "1f31dae3",
   "metadata": {},
   "outputs": [],
   "source": [
    "# user defined function\n",
    "def add(x, y):\n",
    "    \"\"\"This function adds two numbers\"\"\"\n",
    "    return x + y\n"
   ]
  },
  {
   "cell_type": "code",
   "execution_count": 2,
   "id": "b2938fcf",
   "metadata": {},
   "outputs": [
    {
     "name": "stdout",
     "output_type": "stream",
     "text": [
      "\u001b[31mSignature:\u001b[39m add(x, y)\n",
      "\u001b[31mDocstring:\u001b[39m This function adds two numbers\n",
      "\u001b[31mFile:\u001b[39m      c:\\users\\waseem akram\\appdata\\local\\temp\\ipykernel_10768\\2326751565.py\n",
      "\u001b[31mType:\u001b[39m      function"
     ]
    }
   ],
   "source": [
    "?add"
   ]
  },
  {
   "cell_type": "code",
   "execution_count": 3,
   "id": "de061aea",
   "metadata": {},
   "outputs": [
    {
     "data": {
      "text/plain": [
       "11"
      ]
     },
     "execution_count": 3,
     "metadata": {},
     "output_type": "execute_result"
    }
   ],
   "source": [
    "add(6,5)"
   ]
  },
  {
   "cell_type": "code",
   "execution_count": 4,
   "id": "2687c99e",
   "metadata": {},
   "outputs": [],
   "source": [
    "# lambda function\n",
    "add_lambda = lambda x, y: x + y"
   ]
  },
  {
   "cell_type": "code",
   "execution_count": 5,
   "id": "ee8f4cfd",
   "metadata": {},
   "outputs": [
    {
     "data": {
      "text/plain": [
       "11"
      ]
     },
     "execution_count": 5,
     "metadata": {},
     "output_type": "execute_result"
    }
   ],
   "source": [
    "add_lambda(6,5)"
   ]
  },
  {
   "cell_type": "code",
   "execution_count": 6,
   "id": "a15b985b",
   "metadata": {},
   "outputs": [
    {
     "name": "stdout",
     "output_type": "stream",
     "text": [
      "[360000, 250000, 40000, 90000, 202500, 422500, 14400, 33124]\n"
     ]
    }
   ],
   "source": [
    "number = [600,500,200,300,450,650,120,182]\n",
    "# lambda function\n",
    "squared_numbers = map(lambda x: x**2, number)\n",
    "print(list(squared_numbers))"
   ]
  },
  {
   "cell_type": "code",
   "execution_count": 7,
   "id": "af6cb2b4",
   "metadata": {},
   "outputs": [
    {
     "name": "stdout",
     "output_type": "stream",
     "text": [
      "[36, 25, 4, 9, 16, 36, 1, 4]\n"
     ]
    }
   ],
   "source": [
    "number = [6,5,2,3,4,6,1,2]\n",
    "# lambda function\n",
    "squared_numbers = map(lambda x: x**2, number)\n",
    "print(list(squared_numbers))\n"
   ]
  },
  {
   "cell_type": "code",
   "execution_count": 8,
   "id": "0ab21605",
   "metadata": {},
   "outputs": [
    {
     "name": "stdout",
     "output_type": "stream",
     "text": [
      "[216, 125, 8, 27, 64, 216, 1, 8]\n"
     ]
    }
   ],
   "source": [
    "number = [6,5,2,3,4,6,1,2]\n",
    "# lambda function\n",
    "cube_numbers = map(lambda x: x**3, number)\n",
    "print(list(cube_numbers))"
   ]
  }
 ],
 "metadata": {
  "kernelspec": {
   "display_name": "base",
   "language": "python",
   "name": "python3"
  },
  "language_info": {
   "codemirror_mode": {
    "name": "ipython",
    "version": 3
   },
   "file_extension": ".py",
   "mimetype": "text/x-python",
   "name": "python",
   "nbconvert_exporter": "python",
   "pygments_lexer": "ipython3",
   "version": "3.13.5"
  }
 },
 "nbformat": 4,
 "nbformat_minor": 5
}
