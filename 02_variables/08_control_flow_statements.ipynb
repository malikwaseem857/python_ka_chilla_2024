{
 "cells": [
  {
   "cell_type": "markdown",
   "id": "f625b350",
   "metadata": {},
   "source": [
    "Control Flow Statements\n",
    "If, elif, else\n"
   ]
  },
  {
   "cell_type": "code",
   "execution_count": 1,
   "id": "7d06d16b",
   "metadata": {},
   "outputs": [
    {
     "name": "stdout",
     "output_type": "stream",
     "text": [
      "You should enrol in a school with Form-B.\n"
     ]
    }
   ],
   "source": [
    "age = 6\n",
    "if age >= 18:\n",
    "    print(\"You are eligible to vote.\")\n",
    "elif age <= 5:\n",
    "    print(\"You are still a toddler.\")\n",
    "elif age >=6 and age <= 10:\n",
    "    print(\"You should enrol in a school with Form-B.\")\n",
    "else:\n",
    "    print(\"Abhi chotay ho ap.\")"
   ]
  },
  {
   "cell_type": "markdown",
   "id": "1ba8163e",
   "metadata": {},
   "source": [
    "Examples"
   ]
  },
  {
   "cell_type": "code",
   "execution_count": 2,
   "id": "1dcfb167",
   "metadata": {},
   "outputs": [
    {
     "name": "stdout",
     "output_type": "stream",
     "text": [
      "It's a hot day. Thanda pani pee lo\n"
     ]
    }
   ],
   "source": [
    "temp = 32\n",
    "\n",
    "if temp >= 30:\n",
    "    print(\"It's a hot day. Thanda pani pee lo\")\n",
    "elif temp <= 10:\n",
    "    print(\"It's a cold day. Garam chai pee lo.\")\n",
    "else:\n",
    "    print(\"It's neither hot nor cold. Enjoy the weather.\")"
   ]
  },
  {
   "cell_type": "code",
   "execution_count": 3,
   "id": "b4aaa77b",
   "metadata": {},
   "outputs": [
    {
     "name": "stdout",
     "output_type": "stream",
     "text": [
      "It's a normal day. let's have Aalo Gobhi.\n"
     ]
    }
   ],
   "source": [
    "occassion = \"Eid\"\n",
    "\n",
    "if occassion == \"Eid-ul_Fitr\":\n",
    "    print(\"Let's prepare some Sheer Khurma.\")\n",
    "elif occassion == \"Eid-ul_Adha\":\n",
    "    print(\"Let's prepare some Kebab.\")\n",
    "else:\n",
    "    print(\"It's a normal day. let's have Aalo Gobhi.\")"
   ]
  },
  {
   "cell_type": "markdown",
   "id": "e3561b8f",
   "metadata": {},
   "source": [
    "Nested If statements"
   ]
  },
  {
   "cell_type": "code",
   "execution_count": 4,
   "id": "211053f5",
   "metadata": {},
   "outputs": [
    {
     "name": "stdout",
     "output_type": "stream",
     "text": [
      "You are eligible to drive.\n"
     ]
    }
   ],
   "source": [
    "age = 18\n",
    "license = True\n",
    "\n",
    "if age >= 18:\n",
    "    if license:\n",
    "        print(\"You are eligible to drive.\")\n",
    "    else:\n",
    "        print(\"You are not eligible to drive, you need a license.\")\n",
    "else:\n",
    "    print(\"You are not eligible to drive.\")"
   ]
  },
  {
   "cell_type": "markdown",
   "id": "c9031126",
   "metadata": {},
   "source": [
    "Loops\n",
    "1. for loop"
   ]
  },
  {
   "cell_type": "code",
   "execution_count": 5,
   "id": "f92b17a1",
   "metadata": {},
   "outputs": [
    {
     "name": "stdout",
     "output_type": "stream",
     "text": [
      "Waseem\n",
      "Bilal\n",
      "Qasim\n",
      "Shahid\n",
      "Tariq\n",
      "Umer\n"
     ]
    }
   ],
   "source": [
    "print(\"Waseem\")\n",
    "print(\"Bilal\")\n",
    "print(\"Qasim\")\n",
    "print(\"Shahid\")\n",
    "print(\"Tariq\")\n",
    "print(\"Umer\")"
   ]
  },
  {
   "cell_type": "code",
   "execution_count": 6,
   "id": "f2b5820e",
   "metadata": {},
   "outputs": [
    {
     "name": "stdout",
     "output_type": "stream",
     "text": [
      "Waseem\n",
      "Bilal\n",
      "Qasim\n",
      "Shahid\n",
      "Tariq\n",
      "Umer\n"
     ]
    }
   ],
   "source": [
    "list = [\"Waseem\", \"Bilal\", \"Qasim\", \"Shahid\", \"Tariq\", \"Umer\"]\n",
    "\n",
    "for item in list:\n",
    "    print(item)"
   ]
  },
  {
   "cell_type": "markdown",
   "id": "08ec8c47",
   "metadata": {},
   "source": [
    "While loop"
   ]
  },
  {
   "cell_type": "code",
   "execution_count": 7,
   "id": "ac3f3f91",
   "metadata": {},
   "outputs": [
    {
     "name": "stdout",
     "output_type": "stream",
     "text": [
      "I want more chai.\n",
      "I want more chai.\n",
      "I have had enough chai.\n"
     ]
    }
   ],
   "source": [
    "cups_of_chai = 0\n",
    "\n",
    "while cups_of_chai < 2:\n",
    "    print(\"I want more chai.\")\n",
    "    cups_of_chai += 1\n",
    "\n",
    "print(\"I have had enough chai.\")"
   ]
  },
  {
   "cell_type": "markdown",
   "id": "0a7decdb",
   "metadata": {},
   "source": [
    "Break and Continue"
   ]
  },
  {
   "cell_type": "code",
   "execution_count": 8,
   "id": "e15cce76",
   "metadata": {},
   "outputs": [
    {
     "name": "stdout",
     "output_type": "stream",
     "text": [
      "I want more chai.\n",
      "I have had 1 cups of chai.\n",
      "I want more chai.\n",
      "I have had 2 cups of chai.\n",
      "I want more chai.\n",
      "Too much chai, stopping now.\n"
     ]
    }
   ],
   "source": [
    "cups_of_chai = 0\n",
    "\n",
    "while cups_of_chai < 200000:\n",
    "    cups_of_chai += 1\n",
    "    print(\"I want more chai.\")\n",
    "    if cups_of_chai == 3:\n",
    "        print(\"Too much chai, stopping now.\")\n",
    "        break\n",
    "    print(\"I have had\", cups_of_chai, \"cups of chai.\")"
   ]
  },
  {
   "cell_type": "markdown",
   "id": "c31b5ee2",
   "metadata": {},
   "source": [
    "continue"
   ]
  },
  {
   "cell_type": "code",
   "execution_count": 9,
   "id": "7eca041d",
   "metadata": {},
   "outputs": [
    {
     "name": "stdout",
     "output_type": "stream",
     "text": [
      "I want more chai.\n",
      "I have had 1 cups of chai.\n",
      "I want more chai.\n",
      "I have had 2 cups of chai.\n",
      "I want more chai.\n",
      "Too much chai, stopping now.\n",
      "I want more chai.\n",
      "I have had 4 cups of chai.\n",
      "I want more chai.\n",
      "I have had 5 cups of chai.\n"
     ]
    }
   ],
   "source": [
    "cups_of_chai = 0\n",
    "\n",
    "while cups_of_chai < 5:\n",
    "    cups_of_chai += 1\n",
    "    print(\"I want more chai.\")\n",
    "    if cups_of_chai == 3:\n",
    "        print(\"Too much chai, stopping now.\")\n",
    "        continue\n",
    "    print(\"I have had\", cups_of_chai, \"cups of chai.\")"
   ]
  },
  {
   "cell_type": "markdown",
   "id": "6f58c402",
   "metadata": {},
   "source": [
    "Range function in loops"
   ]
  },
  {
   "cell_type": "code",
   "execution_count": 10,
   "id": "4177f4df",
   "metadata": {},
   "outputs": [
    {
     "name": "stdout",
     "output_type": "stream",
     "text": [
      "Chai is ready, Chai cup 1 Served.\n",
      "Chai is ready, Chai cup 3 Served.\n",
      "Chai is ready, Chai cup 5 Served.\n",
      "Chai is ready, Chai cup 7 Served.\n",
      "Chai is ready, Chai cup 9 Served.\n"
     ]
    }
   ],
   "source": [
    "for cup in range(1, 10, 2):\n",
    "    print(\"Chai is ready, Chai cup\", cup, \"Served.\")"
   ]
  },
  {
   "cell_type": "code",
   "execution_count": 11,
   "id": "7d39e71b",
   "metadata": {},
   "outputs": [
    {
     "name": "stdout",
     "output_type": "stream",
     "text": [
      "This loop will run forever.\n",
      "This loop will run forever.\n"
     ]
    }
   ],
   "source": [
    "count = 0\n",
    "\n",
    "while True:\n",
    "    count += 1\n",
    "    print(\"This loop will run forever.\")\n",
    "    if count == 2:\n",
    "        break"
   ]
  },
  {
   "cell_type": "markdown",
   "id": "4bd8a410",
   "metadata": {},
   "source": [
    "Pass statement"
   ]
  },
  {
   "cell_type": "code",
   "execution_count": 12,
   "id": "08db2ffa",
   "metadata": {},
   "outputs": [
    {
     "name": "stdout",
     "output_type": "stream",
     "text": [
      "I want more chai.\n",
      "I have had 1 cups of chai.\n",
      "I want more chai.\n",
      "I have had 2 cups of chai.\n",
      "I want more chai.\n",
      "Too much chai, stopping now.\n",
      "I have had 3 cups of chai.\n",
      "I want more chai.\n",
      "I have had 4 cups of chai.\n",
      "I want more chai.\n",
      "I have had 5 cups of chai.\n"
     ]
    }
   ],
   "source": [
    "cups_of_chai = 0\n",
    "\n",
    "while cups_of_chai < 5:\n",
    "    cups_of_chai += 1\n",
    "    print(\"I want more chai.\")\n",
    "    if cups_of_chai == 3:\n",
    "        print(\"Too much chai, stopping now.\")\n",
    "        pass\n",
    "    print(\"I have had\", cups_of_chai, \"cups of chai.\")"
   ]
  },
  {
   "cell_type": "markdown",
   "id": "2e008123",
   "metadata": {},
   "source": [
    "## try, except and finally\n"
   ]
  },
  {
   "cell_type": "code",
   "execution_count": 13,
   "id": "7f205f15",
   "metadata": {},
   "outputs": [
    {
     "name": "stdout",
     "output_type": "stream",
     "text": [
      "Hello\n"
     ]
    },
    {
     "ename": "ZeroDivisionError",
     "evalue": "division by zero",
     "output_type": "error",
     "traceback": [
      "\u001b[31m---------------------------------------------------------------------------\u001b[39m",
      "\u001b[31mZeroDivisionError\u001b[39m                         Traceback (most recent call last)",
      "\u001b[36mCell\u001b[39m\u001b[36m \u001b[39m\u001b[32mIn[13]\u001b[39m\u001b[32m, line 2\u001b[39m\n\u001b[32m      1\u001b[39m \u001b[38;5;28mprint\u001b[39m(\u001b[33m\"\u001b[39m\u001b[33mHello\u001b[39m\u001b[33m\"\u001b[39m)\n\u001b[32m----> \u001b[39m\u001b[32m2\u001b[39m \u001b[38;5;28mprint\u001b[39m(\u001b[32;43m1\u001b[39;49m\u001b[43m/\u001b[49m\u001b[32;43m0\u001b[39;49m)\n",
      "\u001b[31mZeroDivisionError\u001b[39m: division by zero"
     ]
    }
   ],
   "source": [
    "print(\"Hello\")\n",
    "print(1/0)"
   ]
  },
  {
   "cell_type": "code",
   "execution_count": 14,
   "id": "2b917a46",
   "metadata": {},
   "outputs": [
    {
     "name": "stdout",
     "output_type": "stream",
     "text": [
      "Hello\n",
      "1.0\n",
      "This will execute no matter what.\n"
     ]
    }
   ],
   "source": [
    "# example of try, except and finally\n",
    "try:\n",
    "    print(\"Hello\")\n",
    "    print(5/5)\n",
    "except ZeroDivisionError:\n",
    "    print(\"There is an error, you are trying to divide by zero which is impossible.\")\n",
    "finally:\n",
    "    print(\"This will execute no matter what.\")"
   ]
  }
 ],
 "metadata": {
  "kernelspec": {
   "display_name": "base",
   "language": "python",
   "name": "python3"
  },
  "language_info": {
   "codemirror_mode": {
    "name": "ipython",
    "version": 3
   },
   "file_extension": ".py",
   "mimetype": "text/x-python",
   "name": "python",
   "nbconvert_exporter": "python",
   "pygments_lexer": "ipython3",
   "version": "3.13.5"
  }
 },
 "nbformat": 4,
 "nbformat_minor": 5
}
