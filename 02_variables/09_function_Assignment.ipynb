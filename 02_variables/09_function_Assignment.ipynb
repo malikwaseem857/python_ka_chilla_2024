{
 "cells": [
  {
   "cell_type": "markdown",
   "id": "67fa8c2d",
   "metadata": {
    "vscode": {
     "languageId": "plaintext"
    }
   },
   "source": [
    "## Assignment by Waseem data analytic bootcamp 2024-25"
   ]
  },
  {
   "cell_type": "markdown",
   "id": "76322db9",
   "metadata": {
    "vscode": {
     "languageId": "plaintext"
    }
   },
   "source": [
    "### 10 daily life examples about function "
   ]
  },
  {
   "cell_type": "code",
   "execution_count": 1,
   "id": "9058ff09",
   "metadata": {},
   "outputs": [
    {
     "name": "stdout",
     "output_type": "stream",
     "text": [
      "Chai ka bill: 150 PKR\n"
     ]
    }
   ],
   "source": [
    "# 1st \n",
    "# Function to calculate chai cups cost\n",
    "def chai_bill(cups, price_per_cup=50):\n",
    "    return cups * price_per_cup\n",
    "\n",
    "print(\"Chai ka bill:\", chai_bill(3), \"PKR\")"
   ]
  },
  {
   "cell_type": "code",
   "execution_count": null,
   "id": "3b65ad70",
   "metadata": {},
   "outputs": [
    {
     "name": "stdout",
     "output_type": "stream",
     "text": [
      "Rishta reject ❌\n"
     ]
    }
   ],
   "source": [
    "# 2. \n",
    "# Function to decide if rishta is acceptable\n",
    "def rishta_check(salary, height):\n",
    "    if salary > 100000 and height >= 5.6:\n",
    "        return \"Rishta Pakka!\"\n",
    "    else:\n",
    "        return \"Rishta reject\"\n",
    "\n",
    "print(rishta_check(80000, 5.5))\n"
   ]
  },
  {
   "cell_type": "code",
   "execution_count": 6,
   "id": "b95fe368",
   "metadata": {},
   "outputs": [
    {
     "name": "stdout",
     "output_type": "stream",
     "text": [
      "Yeh roti frisbee lag rahi hai\n"
     ]
    }
   ],
   "source": [
    "# 3.\n",
    "#  Function to decide if roti is gol\n",
    "def roti_quality(roundness_score):\n",
    "    if roundness_score > 70:\n",
    "        return f\"Roti is gol-gol. Approved \"\n",
    "    else:\n",
    "        return \"Yeh roti frisbee lag rahi hai\"\n",
    "\n",
    "print(roti_quality(60))"
   ]
  },
  {
   "cell_type": "code",
   "execution_count": 10,
   "id": "695856ff",
   "metadata": {},
   "outputs": [
    {
     "name": "stdout",
     "output_type": "stream",
     "text": [
      "apni to qismat he kharb hy\n"
     ]
    }
   ],
   "source": [
    "# 4.\n",
    "#  Function to calculate wifi speed\n",
    "def wifi(mbs):\n",
    "    if mbs > 6:\n",
    "        return \"Net sahi chal rha hy\"\n",
    "    else:\n",
    "        return \"apni to qismat he kharb hy\"\n",
    "\n",
    "print(wifi(4))\n"
   ]
  },
  {
   "cell_type": "code",
   "execution_count": 11,
   "id": "15744f54",
   "metadata": {},
   "outputs": [
    {
     "name": "stdout",
     "output_type": "stream",
     "text": [
      "apko chai banana kabi nh ayge\n"
     ]
    }
   ],
   "source": [
    "# 5. Function to decide if chai is chass wali\n",
    "def chai_strength(tea_spoons, water_cups):\n",
    "    ratio = tea_spoons / water_cups\n",
    "    if ratio > 1:\n",
    "        return \"Wah bhai wah! chai banana aa he gae apko\"\n",
    "    else:\n",
    "        return \"apko chai banana kabi nh ayge\"\n",
    "\n",
    "print(chai_strength(2, 3))"
   ]
  },
  {
   "cell_type": "code",
   "execution_count": 13,
   "id": "75dce0c1",
   "metadata": {},
   "outputs": [
    {
     "name": "stdout",
     "output_type": "stream",
     "text": [
      "Bus ka kiraya: 500 PKR\n"
     ]
    }
   ],
   "source": [
    "# 6. Function to calculate taxi fare\n",
    "def bus_fire(km, rate_per_km=50):\n",
    "    return km * rate_per_km\n",
    "\n",
    "print(\"Bus ka kiraya:\", bus_fire(10), \"PKR\")"
   ]
  },
  {
   "cell_type": "code",
   "execution_count": 14,
   "id": "ea93bb68",
   "metadata": {},
   "outputs": [
    {
     "name": "stdout",
     "output_type": "stream",
     "text": [
      "Meethi lassi, 1 glass hor dy yr\n"
     ]
    }
   ],
   "source": [
    "# 7. Function to decide if lassi is meethi or namkeen\n",
    "def lassi_type(sugar_spoons):\n",
    "    if sugar_spoons > 5:\n",
    "        return \"Meethi lassi, 1 glass hor dy yr\"\n",
    "    else:\n",
    "        return \"Namkeen lassi, bas thek hy maza nh aya\"\n",
    "\n",
    "print(lassi_type(6))"
   ]
  },
  {
   "cell_type": "code",
   "execution_count": 16,
   "id": "a727966e",
   "metadata": {},
   "outputs": [
    {
     "name": "stdout",
     "output_type": "stream",
     "text": [
      "Balance khatam! yar kadi balance v pawa lia kr\n"
     ]
    }
   ],
   "source": [
    "# 8. Function to check if phone has balance\n",
    "def balance_check(balance):\n",
    "    if balance < 10:\n",
    "        return \"Balance khatam! yar kadi balance v pawa lia kr\"\n",
    "    else:\n",
    "        return \"Balance theek hai\"\n",
    "\n",
    "print(balance_check(0))"
   ]
  },
  {
   "cell_type": "code",
   "execution_count": 17,
   "id": "386d6649",
   "metadata": {},
   "outputs": [
    {
     "name": "stdout",
     "output_type": "stream",
     "text": [
      "Pakoron ka bill: 160 PKR\n"
     ]
    }
   ],
   "source": [
    "# 9. Function to calculate pakora plate price\n",
    "def pakora_bill(plates, price_per_plate=80):\n",
    "    return plates * price_per_plate\n",
    "\n",
    "print(\"Pakoron ka bill:\", pakora_bill(2), \"PKR\")"
   ]
  },
  {
   "cell_type": "code",
   "execution_count": 19,
   "id": "1db8b33c",
   "metadata": {},
   "outputs": [
    {
     "name": "stdout",
     "output_type": "stream",
     "text": [
      "anny pa dyo yr ao khalin\n"
     ]
    }
   ],
   "source": [
    "# 10. Function to decide if cricket match is possible\n",
    "def cricket_match(rain):\n",
    "    if rain:\n",
    "        return \"yr aj nh khel sakhen gy shit\"\n",
    "    else:\n",
    "        return \"anny pa dyo yr ao khalin\"\n",
    "\n",
    "print(cricket_match(False))\n"
   ]
  }
 ],
 "metadata": {
  "kernelspec": {
   "display_name": "base",
   "language": "python",
   "name": "python3"
  },
  "language_info": {
   "codemirror_mode": {
    "name": "ipython",
    "version": 3
   },
   "file_extension": ".py",
   "mimetype": "text/x-python",
   "name": "python",
   "nbconvert_exporter": "python",
   "pygments_lexer": "ipython3",
   "version": "3.13.5"
  }
 },
 "nbformat": 4,
 "nbformat_minor": 5
}
