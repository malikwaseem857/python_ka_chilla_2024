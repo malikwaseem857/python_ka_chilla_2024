{
 "cells": [
  {
   "cell_type": "markdown",
   "id": "c3c9e396",
   "metadata": {},
   "source": [
    "Type Casting\n",
    "\n",
    "Int to Float"
   ]
  },
  {
   "cell_type": "code",
   "execution_count": 1,
   "id": "d334e171",
   "metadata": {},
   "outputs": [],
   "source": [
    "age_int = 29 # this is an integer\n",
    "\n",
    "# convert the integer to a float\n",
    "age_float = float(age_int)"
   ]
  },
  {
   "cell_type": "code",
   "execution_count": 2,
   "id": "81ce3f01",
   "metadata": {},
   "outputs": [
    {
     "name": "stdout",
     "output_type": "stream",
     "text": [
      "<class 'float'>\n",
      "<class 'int'>\n"
     ]
    }
   ],
   "source": [
    "print(type(age_float))\n",
    "print(type(age_int))"
   ]
  },
  {
   "cell_type": "markdown",
   "id": "1fa4281e",
   "metadata": {},
   "source": [
    "float to int"
   ]
  },
  {
   "cell_type": "code",
   "execution_count": 3,
   "id": "2ded7c54",
   "metadata": {},
   "outputs": [],
   "source": [
    "price = 9.99\n",
    "price_int = int(price)"
   ]
  },
  {
   "cell_type": "markdown",
   "id": "419cda77",
   "metadata": {},
   "source": [
    "float or int to string"
   ]
  },
  {
   "cell_type": "code",
   "execution_count": 4,
   "id": "cb549b52",
   "metadata": {},
   "outputs": [],
   "source": [
    "number_int = 10\n",
    "number_float = 10.5"
   ]
  },
  {
   "cell_type": "code",
   "execution_count": 5,
   "id": "d70c7ba5",
   "metadata": {},
   "outputs": [],
   "source": [
    "number_int = str(number_int)\n",
    "number_float = str(number_float)"
   ]
  },
  {
   "cell_type": "markdown",
   "id": "c6d6175e",
   "metadata": {},
   "source": [
    "string to int and float"
   ]
  },
  {
   "cell_type": "code",
   "execution_count": 7,
   "id": "6198a064",
   "metadata": {},
   "outputs": [],
   "source": [
    "value = \"225\"\n",
    "value_int = int(value)\n",
    "value_float = float(value)"
   ]
  },
  {
   "cell_type": "markdown",
   "id": "abd188a2",
   "metadata": {
    "vscode": {
     "languageId": "bat"
    }
   },
   "source": [
    "List to tuple and tuple to list"
   ]
  },
  {
   "cell_type": "code",
   "execution_count": 9,
   "id": "d56eb5b4",
   "metadata": {},
   "outputs": [
    {
     "name": "stdout",
     "output_type": "stream",
     "text": [
      "<class 'list'>\n",
      "<class 'tuple'>\n"
     ]
    }
   ],
   "source": [
    "my_list = [1, 2, 3, 4, 5]\n",
    "my_tuple = (1, 2, 3, 4, 5)\n",
    "\n",
    "print(type(my_list))\n",
    "print(type(my_tuple))"
   ]
  },
  {
   "cell_type": "code",
   "execution_count": 10,
   "id": "0dafcd74",
   "metadata": {},
   "outputs": [
    {
     "name": "stdout",
     "output_type": "stream",
     "text": [
      "<class 'tuple'>\n",
      "<class 'list'>\n"
     ]
    }
   ],
   "source": [
    "my_list_to_tuple = tuple(my_list)\n",
    "my_tuple_to_list = list(my_tuple)\n",
    "\n",
    "print(type(my_list_to_tuple))\n",
    "print(type(my_tuple_to_list))\n"
   ]
  },
  {
   "cell_type": "markdown",
   "id": "e0f1e1bf",
   "metadata": {},
   "source": [
    "list to set and set to list"
   ]
  },
  {
   "cell_type": "code",
   "execution_count": 11,
   "id": "036b9383",
   "metadata": {},
   "outputs": [
    {
     "name": "stdout",
     "output_type": "stream",
     "text": [
      "<class 'set'>\n"
     ]
    }
   ],
   "source": [
    "my_list = [1, 2, 3, 4, 5]\n",
    "my_list = set(my_list)\n",
    "print(type(my_list))"
   ]
  },
  {
   "cell_type": "markdown",
   "id": "619261b0",
   "metadata": {},
   "source": [
    "to boolean"
   ]
  },
  {
   "cell_type": "code",
   "execution_count": 12,
   "id": "9f858f1b",
   "metadata": {},
   "outputs": [
    {
     "name": "stdout",
     "output_type": "stream",
     "text": [
      "<class 'bool'>\n",
      "True\n"
     ]
    }
   ],
   "source": [
    "number = 10\n",
    "number = bool(number)\n",
    "print(type(number))\n",
    "print(number)"
   ]
  },
  {
   "cell_type": "code",
   "execution_count": 13,
   "id": "9d6d64bd",
   "metadata": {},
   "outputs": [
    {
     "name": "stdout",
     "output_type": "stream",
     "text": [
      "<class 'bool'>\n",
      "False\n"
     ]
    }
   ],
   "source": [
    "khali_list = None\n",
    "khali_list = bool(khali_list)\n",
    "print(type(khali_list))\n",
    "print(khali_list)"
   ]
  },
  {
   "cell_type": "code",
   "execution_count": 14,
   "id": "baf7d7f3",
   "metadata": {},
   "outputs": [
    {
     "name": "stdout",
     "output_type": "stream",
     "text": [
      "I am 22 years old.\n"
     ]
    }
   ],
   "source": [
    "age = 22\n",
    "print(\"I am \" + str(age) + \" years old.\")"
   ]
  },
  {
   "cell_type": "markdown",
   "id": "a4aaee72",
   "metadata": {},
   "source": [
    "ctrl + /"
   ]
  },
  {
   "cell_type": "markdown",
   "id": "4f937d24",
   "metadata": {},
   "source": [
    "ctrl + shift + p"
   ]
  },
  {
   "cell_type": "code",
   "execution_count": 1,
   "id": "98ec7cfb",
   "metadata": {},
   "outputs": [
    {
     "name": "stdout",
     "output_type": "stream",
     "text": [
      "I am 12 years old.\n"
     ]
    }
   ],
   "source": [
    "age = 12\n",
    "print(\"I am\", age, \"years old.\")"
   ]
  }
 ],
 "metadata": {
  "kernelspec": {
   "display_name": "ydata-profiling",
   "language": "python",
   "name": "python3"
  },
  "language_info": {
   "codemirror_mode": {
    "name": "ipython",
    "version": 3
   },
   "file_extension": ".py",
   "mimetype": "text/x-python",
   "name": "python",
   "nbconvert_exporter": "python",
   "pygments_lexer": "ipython3",
   "version": "3.10.18"
  }
 },
 "nbformat": 4,
 "nbformat_minor": 5
}
