{
 "cells": [
  {
   "cell_type": "markdown",
   "id": "a00df2d1",
   "metadata": {},
   "source": [
    "## Introduction to Numpy"
   ]
  },
  {
   "cell_type": "markdown",
   "id": "6088aa3e",
   "metadata": {},
   "source": [
    "## Data Structures in NumPy\n",
    "The primary data structure in NumPy is the ndarray (n-dimensional array), which is a table of elements (usually numbers), all of the same type, indexed by a tuple of positive integers.\n",
    "\n",
    "Examples of NumPy data structures include:\n",
    "\n"
   ]
  },
  {
   "cell_type": "markdown",
   "id": "30cae2f0",
   "metadata": {},
   "source": [
    "- Scalars: Single numbers (e.g., 5)\n",
    "- Vectors: 1D arrays (e.g., [1, 2, 3])\n",
    "- Matrices: 2D arrays (e.g., [[1, 2, 3], [4, 5, 6]])\n",
    "- Tensors: n-dimensional arrays (e.g., RGB images)"
   ]
  },
  {
   "cell_type": "markdown",
   "id": "b0a151fd",
   "metadata": {},
   "source": [
    "- NumPy arrays can have any number of dimensions, but most commonly, you'll use 1D, 2D, or 3D arrays.\n",
    "- NumPy arrays are homogeneous, meaning all elements must be of the same data type (e.g., integers, floats, strings).\n",
    "- NumPy arrays are mutable, meaning you can change the values of the elements in the array.\n",
    "- NumPy arrays are faster and more memory-efficient than Python lists.\n",
    "- NumPy arrays support vectorized operations, which allows you to perform operations on entire arrays at once.\n",
    "- NumPy arrays can be created from Python lists or tuples, or by using built-in NumPy functions."
   ]
  },
  {
   "cell_type": "markdown",
   "id": "6857e945",
   "metadata": {},
   "source": [
    "## Basic array operations\n",
    "- **Creating arrays:** You can create NumPy arrays using the np.array() function, passing a Python list or tuple as an argument.\n",
    "- **Array attributes:** You can access the shape, size, data type, and dimensions of a NumPy array using the shape, size, dtype, and ndim attributes, respectively.\n",
    "- **Indexing and slicing:** You can access elements, rows, columns, or subarrays of a NumPy array using indexing and slicing.\n",
    "- **Reshaping arrays:** You can change the shape of a NumPy array using the reshape() function.\n",
    "- **Combining arrays:** You can concatenate or stack multiple arrays together using functions like np.concatenate() and np.vstack().\n",
    "- **Mathematical operations:** You can perform element-wise mathematical operations on NumPy arrays using arithmetic operators or built-in NumPy functions.\n",
    "-**Aggregation functions:** You can compute statistics like mean, median, sum, min, and max of a NumPy array using aggregation functions like np.mean(), np.median(), np.sum(), np.min(), and np.max().\n",
    "- **Broadcasting:** You can perform operations on arrays of different shapes using NumPy's broadcasting rules.\n",
    "-**Random number generation:** You can generate random numbers using NumPy's random module, which provides functions like np.random.rand(), np.random.randint(), and np.random.normal().\n",
    "- **Saving and loading arrays:** You can save NumPy arrays to disk and load them back using functions like np.save() and np.load().\n",
    "- **Vectorized operations:** You can perform vectorized operations on NumPy arrays using functions like np.sin(), np.cos(), np.exp(), and np.log().\n",
    "- **Linear algebra operations:** You can perform linear algebra operations like matrix multiplication, matrix inversion, and eigenvalue decomposition using functions in the numpy.linalg module.\n",
    "-** Sorting arrays:** You can sort NumPy arrays using functions like np.sort() and np.argsort().\n",
    "- **Set operations:** You can perform set operations like union, intersection, and difference on NumPy arrays using functions like np.union1d(), np.intersect1d(), and np.setdiff1d().\n",
    "- **Missing values:** You can handle missing values in NumPy arrays using functions like np.isnan(), np.isinf(), and np.nan_to_num()."
   ]
  },
  {
   "cell_type": "markdown",
   "id": "35dc902a",
   "metadata": {},
   "source": [
    "## Installation and Importing Numpy\n",
    "## Installation\n",
    "!pip install numpy"
   ]
  },
  {
   "cell_type": "markdown",
   "id": "fa94c556",
   "metadata": {},
   "source": [
    "To start using NumPy, you first need to import it. It's a common convention to import numpy with the alias np:"
   ]
  },
  {
   "cell_type": "code",
   "execution_count": 1,
   "id": "12e71a7c",
   "metadata": {},
   "outputs": [],
   "source": [
    "import numpy as np"
   ]
  },
  {
   "cell_type": "markdown",
   "id": "136bf6cd",
   "metadata": {},
   "source": [
    "### 50 essential NumPy commands that are widely used in data science and data analytics:"
   ]
  },
  {
   "cell_type": "markdown",
   "id": "9ce8c9a7",
   "metadata": {},
   "source": [
    "##  Array Creation and Basic Manipulation\n",
    "1. np.array – Create an array.\n",
    "2. np.zeros – Create an array filled with zeros.\n",
    "3. np.ones – Create an array filled with ones.\n",
    "4. np.empty – Create an empty array.\n",
    "5. np.arange – Create an array with a range of values.\n",
    "6. np.linspace – Create an array with evenly spaced values over a specified interval.\n",
    "7. np.reshape – Reshape an array without changing its data.\n",
    "8. np.transpose – Transpose the dimensions of an array.\n",
    "9. np.flatten – Flatten a multi-dimensional array into a 1D array.\n",
    "10. np.repeat – Repeat elements of an array."
   ]
  },
  {
   "cell_type": "markdown",
   "id": "4f709e7f",
   "metadata": {},
   "source": [
    "## Joining, Splitting, and Modifying Arrays\n",
    "11. np.concatenate – Join arrays along an existing axis.\n",
    "12. np.vstack – Stack arrays vertically.\n",
    "13. np.hstack – Stack arrays horizontally.\n",
    "14. np.split – Split an array into multiple sub-arrays.\n",
    "15. np.tile – Construct an array by repeating it.\n",
    "16. np.delete – Delete elements from an array.\n",
    "17. np.insert – Insert elements into an array.\n",
    "18. np.append – Append values to an array."
   ]
  },
  {
   "cell_type": "markdown",
   "id": "09c94e42",
   "metadata": {},
   "source": [
    "### Mathematical Operations\n",
    "19. np.add – Element-wise addition.\n",
    "20. np.subtract – Element-wise subtraction.\n",
    "21. np.multiply – Element-wise multiplication.\n",
    "22. np.divide – Element-wise division.\n",
    "23. np.power – Raise elements to a power.\n",
    "24. np.sqrt – Compute square roots of elements.\n",
    "25. np.exp – Exponential of all elements.\n",
    "26. np.log – Natural logarithm of all elements.\n",
    "27. np.sin, np.cos, np.tan – Trigonometric functions.\n",
    "##  Statistical Operations\n",
    "28. np.sum – Sum of all elements.\n",
    "29. np.mean – Mean of elements.\n",
    "30. np.median – Median of elements.\n",
    "31. np.std – Standard deviation of elements.\n",
    "32. np.var – Variance of elements.\n",
    "33. np.min – Minimum element.\n",
    "34. np.max – Maximum element.\n",
    "35. np.percentile – Compute the percentile of elements.\n",
    "36. np.cumsum – Cumulative sum of elements.\n",
    "37. np.cumprod – Cumulative product of elements.\n",
    "## Logical Operations\n",
    "38. np.where – Return elements based on a condition.\n",
    "39. np.any – Check if any element is True.\n",
    "40. np.all – Check if all elements are True.\n",
    "41. np.isin – Check if elements are in another array.\n",
    "42. np.unique – Find unique elements.\n",
    "## Linear Algebra\n",
    "43. np.dot – Dot product of two arrays.\n",
    "44. np.matmul – Matrix multiplication.\n",
    "45. np.linalg.inv – Inverse of a matrix.\n",
    "46. np.linalg.det – Determinant of a matrix.\n",
    "47. np.linalg.eig – Eigenvalues and eigenvectors.\n",
    "## Utility Functions\n",
    "48. np.sort – Sort elements.\n",
    "49. np.argsort – Returns indices that would sort an array.\n",
    "50. np.clip – Limit values within a given range.\n",
    "51. \n",
    "These commands provide a solid foundation for data manipulation, transformation, statistical analysis, and linear algebra computations, which are essential in data science and analytics workflows."
   ]
  },
  {
   "cell_type": "markdown",
   "id": "eddae681",
   "metadata": {},
   "source": [
    "## 1. Array Creation and Basic Manipulation"
   ]
  },
  {
   "cell_type": "code",
   "execution_count": 2,
   "id": "74ad3ae4",
   "metadata": {},
   "outputs": [
    {
     "name": "stdout",
     "output_type": "stream",
     "text": [
      "[1 2 3 4 5]\n"
     ]
    }
   ],
   "source": [
    "# creata an array\n",
    "a = np.array([1, 2, 3, 4, 5])\n",
    "print(a)"
   ]
  },
  {
   "cell_type": "code",
   "execution_count": 3,
   "id": "caae0092",
   "metadata": {},
   "outputs": [
    {
     "name": "stdout",
     "output_type": "stream",
     "text": [
      "[[1 2 3]\n",
      " [4 5 6]]\n"
     ]
    }
   ],
   "source": [
    "# create a 2D array\n",
    "b = np.array([[1, 2, 3], [4, 5, 6]])\n",
    "print(b)"
   ]
  },
  {
   "cell_type": "code",
   "execution_count": 4,
   "id": "689870af",
   "metadata": {},
   "outputs": [
    {
     "name": "stdout",
     "output_type": "stream",
     "text": [
      "[[1 2 3]\n",
      " [4 5 6]\n",
      " [7 8 9]]\n"
     ]
    }
   ],
   "source": [
    "b1 = np.array([[1, 2, 3], [4, 5, 6], [7, 8, 9]])\n",
    "print(b1)"
   ]
  },
  {
   "cell_type": "code",
   "execution_count": 5,
   "id": "cea2b367",
   "metadata": {},
   "outputs": [
    {
     "name": "stdout",
     "output_type": "stream",
     "text": [
      "[[0. 0. 0.]\n",
      " [0. 0. 0.]]\n"
     ]
    }
   ],
   "source": [
    "# create an array with zeros\n",
    "c = np.zeros((2, 3))\n",
    "print(c)"
   ]
  },
  {
   "cell_type": "code",
   "execution_count": 6,
   "id": "b02273dc",
   "metadata": {},
   "outputs": [
    {
     "name": "stdout",
     "output_type": "stream",
     "text": [
      "[[1. 1. 1.]\n",
      " [1. 1. 1.]]\n"
     ]
    }
   ],
   "source": [
    "# with ones\n",
    "d = np.ones((2, 3))\n",
    "print(d)"
   ]
  },
  {
   "cell_type": "code",
   "execution_count": 7,
   "id": "380494cb",
   "metadata": {},
   "outputs": [
    {
     "name": "stdout",
     "output_type": "stream",
     "text": [
      "[[1.00220332e-311 3.16202013e-322 0.00000000e+000 0.00000000e+000\n",
      "  1.11260619e-306 1.65948980e-076]\n",
      " [7.78610156e-071 2.85282739e-056 9.43958398e+164 5.24438645e+174\n",
      "  1.54872810e+185 2.16620633e+184]]\n"
     ]
    }
   ],
   "source": [
    "# empty array\n",
    "e = np.empty((2, 6))\n",
    "print(e)"
   ]
  },
  {
   "cell_type": "code",
   "execution_count": 8,
   "id": "a1be29e5",
   "metadata": {},
   "outputs": [
    {
     "name": "stdout",
     "output_type": "stream",
     "text": [
      "[0 1 2 3 4 5 6 7 8 9]\n"
     ]
    }
   ],
   "source": [
    "# with a range\n",
    "f = np.arange(10)\n",
    "print(f)"
   ]
  },
  {
   "cell_type": "code",
   "execution_count": 9,
   "id": "c0f71798",
   "metadata": {},
   "outputs": [
    {
     "name": "stdout",
     "output_type": "stream",
     "text": [
      "[1 2 3 4 5 6 7 8 9]\n"
     ]
    }
   ],
   "source": [
    "# with a range\n",
    "f1 = np.arange(1, 10)\n",
    "print(f1)"
   ]
  },
  {
   "cell_type": "code",
   "execution_count": null,
   "id": "b466a660",
   "metadata": {},
   "outputs": [
    {
     "name": "stdout",
     "output_type": "stream",
     "text": [
      "[2 4 6 8]\n",
      "int64\n"
     ]
    }
   ],
   "source": [
    "# with a range and a step\n",
    "g = np.arange(2, 10, 2)\n",
    "print(g)\n",
    "print(g.dtype)\n"
   ]
  },
  {
   "cell_type": "code",
   "execution_count": 11,
   "id": "833fba30",
   "metadata": {},
   "outputs": [
    {
     "name": "stdout",
     "output_type": "stream",
     "text": [
      "[2. 4. 6. 8.]\n",
      "float64\n"
     ]
    }
   ],
   "source": [
    "# with a range and a step\n",
    "g1 = np.arange(2, 10, 2, dtype=float)\n",
    "print(g1)\n",
    "print(g1.dtype)"
   ]
  },
  {
   "cell_type": "code",
   "execution_count": 12,
   "id": "c23c04f3",
   "metadata": {},
   "outputs": [
    {
     "name": "stdout",
     "output_type": "stream",
     "text": [
      "[1.  1.5 2.  2.5 3.  3.5 4.  4.5 5.  5.5 6.  6.5 7.  7.5 8.  8.5 9.  9.5]\n"
     ]
    }
   ],
   "source": [
    "# with a range and a step as float\n",
    "h = np.arange(1, 10, 0.5)\n",
    "print(h)\n"
   ]
  },
  {
   "cell_type": "code",
   "execution_count": 13,
   "id": "22f254c3",
   "metadata": {},
   "outputs": [
    {
     "name": "stdout",
     "output_type": "stream",
     "text": [
      "float64\n"
     ]
    }
   ],
   "source": [
    "# datatype of the array h\n",
    "print(h.dtype)\n"
   ]
  },
  {
   "cell_type": "code",
   "execution_count": 14,
   "id": "de00c2d4",
   "metadata": {},
   "outputs": [
    {
     "name": "stdout",
     "output_type": "stream",
     "text": [
      "[ 0.  3.  6.  9. 12.]\n"
     ]
    }
   ],
   "source": [
    "# with a range and a number of elements evenly spaced\n",
    "i = np.linspace(0, 12, 5) # 5 elements between 0 and 10\n",
    "print(i)"
   ]
  },
  {
   "cell_type": "code",
   "execution_count": 15,
   "id": "9b377464",
   "metadata": {},
   "outputs": [
    {
     "name": "stdout",
     "output_type": "stream",
     "text": [
      "array before: [1 2 3 4 5 6 7 8]\n"
     ]
    }
   ],
   "source": [
    "# reshape an array\n",
    "arr = np.array([1, 2, 3, 4, 5, 6, 7, 8])\n",
    "print(f\"array before: {arr}\")"
   ]
  },
  {
   "cell_type": "code",
   "execution_count": 16,
   "id": "3bc6588a",
   "metadata": {},
   "outputs": [
    {
     "name": "stdout",
     "output_type": "stream",
     "text": [
      "array after reshaping:\n",
      "[[1 2 3 4]\n",
      " [5 6 7 8]]\n"
     ]
    }
   ],
   "source": [
    "reshaped_arr = arr.reshape((2, 4))\n",
    "print(f\"array after reshaping:\\n{reshaped_arr}\")"
   ]
  },
  {
   "cell_type": "code",
   "execution_count": 17,
   "id": "44e21ce0",
   "metadata": {},
   "outputs": [
    {
     "name": "stdout",
     "output_type": "stream",
     "text": [
      "array before: [1 2 3 4 5 6]\n",
      "------------------------\n",
      "array after reshaping:\n",
      "[[1 2 3]\n",
      " [4 5 6]]\n"
     ]
    }
   ],
   "source": [
    "# reshape an array\n",
    "arr = np.array([1, 2, 3, 4, 5, 6])\n",
    "print(f\"array before: {arr}\")\n",
    "print(\"------------------------\")\n",
    "reshaped_arr = arr.reshape((2, 3))\n",
    "print(f\"array after reshaping:\\n{reshaped_arr}\")"
   ]
  },
  {
   "cell_type": "code",
   "execution_count": 18,
   "id": "7e5bbcf0",
   "metadata": {},
   "outputs": [
    {
     "name": "stdout",
     "output_type": "stream",
     "text": [
      "array before:\n",
      "[[1 2 3]\n",
      " [4 5 6]]\n",
      "------------------------\n",
      "array after transposing:\n",
      "[[1 4]\n",
      " [2 5]\n",
      " [3 6]]\n"
     ]
    }
   ],
   "source": [
    "# transpose an array\n",
    "arr = np.array([[1, 2, 3], [4, 5, 6]])\n",
    "print(f\"array before:\\n{arr}\")\n",
    "print(\"------------------------\")\n",
    "transposed_arr = arr.transpose()\n",
    "print(f\"array after transposing:\\n{transposed_arr}\")"
   ]
  },
  {
   "cell_type": "code",
   "execution_count": 19,
   "id": "cec8b20a",
   "metadata": {},
   "outputs": [
    {
     "name": "stdout",
     "output_type": "stream",
     "text": [
      "array before:\n",
      "[[1 2 3]\n",
      " [4 5 6]]\n",
      "------------------------\n",
      "array after flattening:\n",
      "[1 2 3 4 5 6]\n"
     ]
    }
   ],
   "source": [
    "# flatten a multi-dimensional array\n",
    "arr = np.array([[1, 2, 3], [4, 5, 6]])\n",
    "print(f\"array before:\\n{arr}\")\n",
    "print(\"------------------------\")\n",
    "flattened_arr = arr.flatten()\n",
    "print(f\"array after flattening:\\n{flattened_arr}\")"
   ]
  },
  {
   "cell_type": "markdown",
   "id": "a888eee8",
   "metadata": {},
   "source": [
    "- Flatten a multi-dimensional array into a 1D array means converting a multi-dimensional array into a 1D array."
   ]
  },
  {
   "cell_type": "code",
   "execution_count": 20,
   "id": "4e847d13",
   "metadata": {},
   "outputs": [
    {
     "name": "stdout",
     "output_type": "stream",
     "text": [
      "array before: [1 2 3]\n",
      "------------------------\n",
      "array after repeating:\n",
      "[1 1 1 2 2 2 3 3 3]\n"
     ]
    }
   ],
   "source": [
    "# repeat elements of an array\n",
    "arr = np.array([1, 2, 3])\n",
    "print(f\"array before: {arr}\")\n",
    "print(\"------------------------\")\n",
    "repeated_arr = np.repeat(arr, 3) # repeat each element 3 times\n",
    "print(f\"array after repeating:\\n{repeated_arr}\")"
   ]
  },
  {
   "cell_type": "code",
   "execution_count": 21,
   "id": "a605ed05",
   "metadata": {},
   "outputs": [
    {
     "name": "stdout",
     "output_type": "stream",
     "text": [
      "array before: [1 2 3]\n",
      "---------------------------------------------------------\n",
      "tiled array:\n",
      "[1 2 3 1 2 3 1 2 3]\n"
     ]
    }
   ],
   "source": [
    "# construct an array by repeating it\n",
    "arr = np.array([1, 2, 3])\n",
    "print(f\"array before: {arr}\")\n",
    "print(\"---------------------------------------------------------\")\n",
    "tiled_arr = np.tile(arr, 3) # repeat the array 3 times\n",
    "print(f\"tiled array:\\n{tiled_arr}\")"
   ]
  },
  {
   "cell_type": "markdown",
   "id": "f6928e88",
   "metadata": {},
   "source": [
    "## 2. Joining, splitting and modifying Arrays"
   ]
  },
  {
   "cell_type": "code",
   "execution_count": 22,
   "id": "f8119d47",
   "metadata": {},
   "outputs": [
    {
     "name": "stdout",
     "output_type": "stream",
     "text": [
      "array1: [1 2 3]\n",
      "array2: [4 5 6]\n",
      "------------------------\n",
      "concatenated array:\n",
      "[1 2 3 4 5 6]\n"
     ]
    }
   ],
   "source": [
    "# concatenate arrays\n",
    "arr1 = np.array([1, 2, 3])\n",
    "arr2 = np.array([4, 5, 6])\n",
    "print(f\"array1: {arr1}\")\n",
    "print(f\"array2: {arr2}\")\n",
    "print(\"------------------------\")\n",
    "concatenated_arr = np.concatenate((arr1, arr2)) # concatenate arrays arr1 and arr2\n",
    "print(f\"concatenated array:\\n{concatenated_arr}\")"
   ]
  },
  {
   "cell_type": "markdown",
   "id": "b73d045c",
   "metadata": {},
   "source": [
    "- Concatenate() function is used to join arrays along an existing axis which means joining arrays along the existing axis.\n",
    "##  Stacking vs. Concatenation\n",
    "- Stacking is a general concept that refers to joining two or more arrays along a new axis.\n",
    "- Concatenation is a specific case of stacking that refers to joining arrays along an existing axis.\n",
    "- Stacking can be done along different axes, while concatenation is limited to joining arrays along the existing axes."
   ]
  },
  {
   "cell_type": "code",
   "execution_count": 23,
   "id": "d420047c",
   "metadata": {},
   "outputs": [
    {
     "name": "stdout",
     "output_type": "stream",
     "text": [
      "array1: [1 2 3]\n",
      "array2: [4 5 6]\n",
      "------------------------\n",
      "stacked array:\n",
      "[[1 2 3]\n",
      " [4 5 6]]\n"
     ]
    }
   ],
   "source": [
    "# stack arrays\n",
    "arr1 = np.array([1, 2, 3])\n",
    "arr2 = np.array([4, 5, 6])\n",
    "print(f\"array1: {arr1}\")\n",
    "print(f\"array2: {arr2}\")\n",
    "print(\"------------------------\")\n",
    "stacked_arr = np.stack((arr1, arr2)) # stack arrays arr1 and arr2\n",
    "print(f\"stacked array:\\n{stacked_arr}\")"
   ]
  },
  {
   "cell_type": "code",
   "execution_count": 24,
   "id": "500d1bdb",
   "metadata": {},
   "outputs": [
    {
     "name": "stdout",
     "output_type": "stream",
     "text": [
      "array1: [1 2 3]\n",
      "array2: [4 5 6]\n",
      "------------------------\n",
      "vertically stacked array:\n",
      "[[1 2 3]\n",
      " [4 5 6]]\n"
     ]
    }
   ],
   "source": [
    "# vertical stack arrays\n",
    "arr1 = np.array([1, 2, 3])\n",
    "arr2 = np.array([4, 5, 6])\n",
    "print(f\"array1: {arr1}\")\n",
    "print(f\"array2: {arr2}\")\n",
    "print(\"------------------------\")\n",
    "vstacked_arr = np.vstack((arr1, arr2)) # stack arrays arr1 and arr2 vertically\n",
    "print(f\"vertically stacked array:\\n{vstacked_arr}\")"
   ]
  },
  {
   "cell_type": "code",
   "execution_count": 25,
   "id": "2f515802",
   "metadata": {},
   "outputs": [
    {
     "name": "stdout",
     "output_type": "stream",
     "text": [
      "array1: [1 2 3]\n",
      "array2: [4 5 6]\n",
      "------------------------\n",
      "horizontally stacked array:\n",
      "[1 2 3 4 5 6]\n"
     ]
    }
   ],
   "source": [
    "# horizontal stack arrays\n",
    "arr1 = np.array([1, 2, 3])\n",
    "arr2 = np.array([4, 5, 6])\n",
    "print(f\"array1: {arr1}\")\n",
    "print(f\"array2: {arr2}\")\n",
    "print(\"------------------------\")\n",
    "hstacked_arr = np.hstack((arr1, arr2)) # stack arrays arr1 and arr2 horizontally\n",
    "print(f\"horizontally stacked array:\\n{hstacked_arr}\")"
   ]
  },
  {
   "cell_type": "code",
   "execution_count": 26,
   "id": "37c26ea7",
   "metadata": {},
   "outputs": [
    {
     "name": "stdout",
     "output_type": "stream",
     "text": [
      "array before: [1 2 3 4 5 6]\n",
      "---------------------------------------------------------\n",
      "split array:\n",
      "[array([1, 2]), array([3, 4]), array([5, 6])]\n"
     ]
    }
   ],
   "source": [
    "# split an array into sub-arrays\n",
    "arr = np.array([1, 2, 3, 4, 5, 6])\n",
    "print(f\"array before: {arr}\")\n",
    "print(\"---------------------------------------------------------\")\n",
    "split_arr = np.split(arr, 3) # split the array into 3 sub-arrays\n",
    "print(f\"split array:\\n{split_arr}\")"
   ]
  },
  {
   "cell_type": "code",
   "execution_count": 27,
   "id": "2d623bf3",
   "metadata": {},
   "outputs": [
    {
     "name": "stdout",
     "output_type": "stream",
     "text": [
      "array before: [1 2 3 4 5 6]\n",
      "---------------------------------------------------------\n",
      "array after deleting element at index 3: [1 2 3 5 6]\n"
     ]
    }
   ],
   "source": [
    "# delete elements from an array\n",
    "arr = np.array([1, 2, 3, 4, 5, 6])\n",
    "print(f\"array before: {arr}\")\n",
    "print(\"---------------------------------------------------------\")\n",
    "deleted_arr = np.delete(arr, 3) # delete the element at index 3\n",
    "print(f\"array after deleting element at index 3: {deleted_arr}\")"
   ]
  },
  {
   "cell_type": "code",
   "execution_count": 28,
   "id": "6e31c199",
   "metadata": {},
   "outputs": [
    {
     "name": "stdout",
     "output_type": "stream",
     "text": [
      "array: [1 2 3 4 5 6]\n",
      "---------------------------------------------------------\n",
      "element at index 0: 1\n",
      "element at index 1: 2\n",
      "element at index -1: 6\n",
      "element at index -2: 5\n"
     ]
    }
   ],
   "source": [
    "# indexing of arrays\n",
    "arr = np.array([1, 2, 3, 4, 5, 6])\n",
    "print(f\"array: {arr}\")\n",
    "print(\"---------------------------------------------------------\")\n",
    "print(f\"element at index 0: {arr[0]}\")\n",
    "print(f\"element at index 1: {arr[1]}\")\n",
    "print(f\"element at index -1: {arr[-1]}\")\n",
    "print(f\"element at index -2: {arr[-2]}\")"
   ]
  },
  {
   "cell_type": "code",
   "execution_count": 31,
   "id": "31de8efc",
   "metadata": {},
   "outputs": [
    {
     "name": "stdout",
     "output_type": "stream",
     "text": [
      "array:\n",
      "[[1 2 3]\n",
      " [4 5 6]]\n",
      "---------------------------------------------------------\n",
      "element at row 1, column 2: 6\n",
      "element at row 0, column 2: 3\n"
     ]
    }
   ],
   "source": [
    "# indexing of 2D arrays\n",
    "arr = np.array([[1, 2, 3], [4, 5, 6]])\n",
    "print(f\"array:\\n{arr}\")\n",
    "print(\"---------------------------------------------------------\")\n",
    "print(f\"element at row 1, column 2: {arr[1, 2]}\")\n",
    "print(f\"element at row 0, column 2: {arr[0, 2]}\")"
   ]
  },
  {
   "cell_type": "code",
   "execution_count": 32,
   "id": "17d6e2b3",
   "metadata": {},
   "outputs": [
    {
     "name": "stdout",
     "output_type": "stream",
     "text": [
      "array: [1 2 3 4 5 6]\n",
      "---------------------------------------------------------\n",
      "elements from index 0 to 2: [1 2 3]\n",
      "elements from index 2 to 4: [3 4 5]\n",
      "elements from index 0 to 4 with step 2: [1 3 5]\n"
     ]
    }
   ],
   "source": [
    "# slicing of arrays\n",
    "arr = np.array([1, 2, 3, 4, 5, 6])\n",
    "print(f\"array: {arr}\")\n",
    "print(\"---------------------------------------------------------\")\n",
    "print(f\"elements from index 0 to 2: {arr[0:3]}\")\n",
    "print(f\"elements from index 2 to 4: {arr[2:5]}\")\n",
    "print(f\"elements from index 0 to 4 with step 2: {arr[0:5:2]}\") # step 2 means every 2nd element"
   ]
  },
  {
   "cell_type": "code",
   "execution_count": 33,
   "id": "a86d6745",
   "metadata": {},
   "outputs": [
    {
     "name": "stdout",
     "output_type": "stream",
     "text": [
      "array:\n",
      "[[1 2 3]\n",
      " [4 5 6]]\n",
      "---------------------------------------------------------\n",
      "elements from row 0, column 0 to row 1, column 2:\n",
      "[[1 2 3]\n",
      " [4 5 6]]\n"
     ]
    }
   ],
   "source": [
    "# slicing in 2D arrays\n",
    "arr = np.array([[1, 2, 3], [4, 5, 6]])\n",
    "print(f\"array:\\n{arr}\")\n",
    "print(\"---------------------------------------------------------\")\n",
    "print(f\"elements from row 0, column 0 to row 1, column 2:\\n{arr[0:2, 0:3]}\")"
   ]
  },
  {
   "cell_type": "code",
   "execution_count": 34,
   "id": "496adf85",
   "metadata": {},
   "outputs": [
    {
     "name": "stdout",
     "output_type": "stream",
     "text": [
      "array before: [1 2 3 4 5 6]\n",
      "---------------------------------------------------------\n",
      "array after inserting 10 at index 3: [ 1  2  3 10  4  5  6]\n"
     ]
    }
   ],
   "source": [
    "# insert elements into an array\n",
    "arr = np.array([1, 2, 3, 4, 5, 6])\n",
    "print(f\"array before: {arr}\")\n",
    "print(\"---------------------------------------------------------\")\n",
    "inserted_arr = np.insert(arr, 3, 10) # insert 10 at index 3\n",
    "print(f\"array after inserting 10 at index 3: {inserted_arr}\")"
   ]
  },
  {
   "cell_type": "code",
   "execution_count": 35,
   "id": "6e8cefa7",
   "metadata": {},
   "outputs": [
    {
     "name": "stdout",
     "output_type": "stream",
     "text": [
      "array before: [1 2 3 4 5 6]\n",
      "---------------------------------------------------------\n",
      "array after appending 10 at the end: [ 1  2  3  4  5  6 10]\n"
     ]
    }
   ],
   "source": [
    "# append elements to an array\n",
    "arr = np.array([1, 2, 3, 4, 5, 6])\n",
    "print(f\"array before: {arr}\")\n",
    "print(\"---------------------------------------------------------\")\n",
    "appended_arr = np.append(arr, 10) # append 10 at the end of the array\n",
    "print(f\"array after appending 10 at the end: {appended_arr}\")"
   ]
  },
  {
   "cell_type": "code",
   "execution_count": 36,
   "id": "c2dc6500",
   "metadata": {},
   "outputs": [
    {
     "name": "stdout",
     "output_type": "stream",
     "text": [
      "array before: [1 2 3 4 5 6]\n",
      "---------------------------------------------------------\n",
      "array after updating element at index 3: [ 1  2  3 10  5  6]\n"
     ]
    }
   ],
   "source": [
    "# update elements in an array\n",
    "arr = np.array([1, 2, 3, 4, 5, 6])\n",
    "print(f\"array before: {arr}\")\n",
    "print(\"---------------------------------------------------------\")\n",
    "arr[3] = 10 # update the element at index 3\n",
    "print(f\"array after updating element at index 3: {arr}\")"
   ]
  },
  {
   "cell_type": "markdown",
   "id": "d01c9be8",
   "metadata": {},
   "source": [
    "## 3. Mathematical Operations"
   ]
  },
  {
   "cell_type": "code",
   "execution_count": 37,
   "id": "ea5d90a8",
   "metadata": {},
   "outputs": [
    {
     "name": "stdout",
     "output_type": "stream",
     "text": [
      "array1: [1 2 3]\n",
      "array2: [4 5 6]\n",
      "---------------------------------------------------------\n"
     ]
    }
   ],
   "source": [
    "# element-wise operations\n",
    "arr1 = np.array([1, 2, 3])\n",
    "arr2 = np.array([4, 5, 6])\n",
    "print(f\"array1: {arr1}\")\n",
    "print(f\"array2: {arr2}\")\n",
    "print(\"---------------------------------------------------------\")"
   ]
  },
  {
   "cell_type": "code",
   "execution_count": 38,
   "id": "2a60356f",
   "metadata": {},
   "outputs": [
    {
     "name": "stdout",
     "output_type": "stream",
     "text": [
      "array2 squared: [16 25 36]\n"
     ]
    }
   ],
   "source": [
    "arr2_squared = arr2 ** 2\n",
    "print(f\"array2 squared: {arr2_squared}\")"
   ]
  },
  {
   "cell_type": "code",
   "execution_count": 39,
   "id": "c3f024ce",
   "metadata": {},
   "outputs": [
    {
     "name": "stdout",
     "output_type": "stream",
     "text": [
      "array1: [1 2 3]\n",
      "array2: [4 5 6]\n",
      "---------------------------------------------------------\n",
      "sum of arrays: [5 7 9]\n",
      "---------------------------------------------------------\n",
      "difference of arrays: [-3 -3 -3]\n",
      "---------------------------------------------------------\n",
      "product of arrays: [ 4 10 18]\n",
      "---------------------------------------------------------\n",
      "quotient of arrays: [0.25 0.4  0.5 ]\n",
      "---------------------------------------------------------\n",
      "Raise the power: [1 4 9]\n"
     ]
    }
   ],
   "source": [
    "# element-wise operations\n",
    "arr1 = np.array([1, 2, 3])\n",
    "arr2 = np.array([4, 5, 6])\n",
    "print(f\"array1: {arr1}\")\n",
    "print(f\"array2: {arr2}\")\n",
    "print(\"---------------------------------------------------------\")\n",
    "sum_arr = arr1 + arr2\n",
    "print(f\"sum of arrays: {sum_arr}\")\n",
    "print(\"---------------------------------------------------------\")\n",
    "diff_arr = arr1 - arr2\n",
    "print(f\"difference of arrays: {diff_arr}\")\n",
    "print(\"---------------------------------------------------------\")\n",
    "prod_arr = arr1 * arr2\n",
    "print(f\"product of arrays: {prod_arr}\")\n",
    "print(\"---------------------------------------------------------\")\n",
    "quot_arr = arr1 / arr2\n",
    "print(f\"quotient of arrays: {quot_arr}\")\n",
    "print(\"---------------------------------------------------------\")\n",
    "pow_arr = arr1 ** 2\n",
    "print(f\"Raise the power: {pow_arr}\")"
   ]
  },
  {
   "cell_type": "code",
   "execution_count": 40,
   "id": "b69bcd39",
   "metadata": {},
   "outputs": [
    {
     "name": "stdout",
     "output_type": "stream",
     "text": [
      "array: [ 1  4  9 16 25]\n",
      "---------------------------------------------------------\n",
      "square root of the array: [1. 2. 3. 4. 5.]\n"
     ]
    }
   ],
   "source": [
    "# squareroot of an array\n",
    "arr = np.array([1, 4, 9, 16, 25])\n",
    "print(f\"array: {arr}\")\n",
    "print(\"---------------------------------------------------------\")\n",
    "sqrt_arr = np.sqrt(arr)\n",
    "print(f\"square root of the array: {sqrt_arr}\")"
   ]
  },
  {
   "cell_type": "code",
   "execution_count": 41,
   "id": "3fbe377f",
   "metadata": {},
   "outputs": [
    {
     "name": "stdout",
     "output_type": "stream",
     "text": [
      "array1: [1 2 3]\n",
      "---------------------------------------------------------\n",
      "exponential of the array2: [ 2.71828183  7.3890561  20.08553692]\n"
     ]
    }
   ],
   "source": [
    "# exponential of an array \n",
    "arr1 = np.array([1, 2, 3])\n",
    "print(f\"array1: {arr1}\")\n",
    "print(\"---------------------------------------------------------\")\n",
    "exp_arr = np.exp(arr1)\n",
    "print(f\"exponential of the array2: {exp_arr}\")"
   ]
  },
  {
   "cell_type": "code",
   "execution_count": 42,
   "id": "6cbc596e",
   "metadata": {},
   "outputs": [
    {
     "name": "stdout",
     "output_type": "stream",
     "text": [
      "array: [    250     500 1000000]\n",
      "---------------------------------------------------------\n",
      "log of the array: [ 5.52146092  6.2146081  13.81551056]\n",
      "log10 of the array: [2.39794001 2.69897    6.        ]\n"
     ]
    }
   ],
   "source": [
    "# log of an array\n",
    "arr1 = np.array([250, 500, 1000000])\n",
    "print(f\"array: {arr1}\")\n",
    "print(\"---------------------------------------------------------\")\n",
    "log_arr = np.log(arr1)\n",
    "print(f\"log of the array: {log_arr}\")\n",
    "# take log10\n",
    "log10_arr = np.log10(arr1)\n",
    "print(f\"log10 of the array: {log10_arr}\")"
   ]
  },
  {
   "cell_type": "code",
   "execution_count": 43,
   "id": "78d3ae5d",
   "metadata": {},
   "outputs": [
    {
     "name": "stdout",
     "output_type": "stream",
     "text": [
      "pi: 3.141592653589793\n",
      "e: 2.718281828459045\n"
     ]
    }
   ],
   "source": [
    "# mathematical constants\n",
    "print(f\"pi: {np.pi}\")\n",
    "print(f\"e: {np.e}\")"
   ]
  },
  {
   "cell_type": "code",
   "execution_count": 44,
   "id": "3a499464",
   "metadata": {},
   "outputs": [
    {
     "name": "stdout",
     "output_type": "stream",
     "text": [
      "pi value: 3.141592653589793\n"
     ]
    }
   ],
   "source": [
    "# pi value\n",
    "pi = np.pi\n",
    "print(f\"pi value: {pi}\")"
   ]
  },
  {
   "cell_type": "code",
   "execution_count": 45,
   "id": "9c1bc02e",
   "metadata": {},
   "outputs": [
    {
     "name": "stdout",
     "output_type": "stream",
     "text": [
      "random number: 0.877256667313508\n"
     ]
    }
   ],
   "source": [
    "# random numbers\n",
    "rand_num = np.random.rand()\n",
    "print(f\"random number: {rand_num}\")"
   ]
  },
  {
   "cell_type": "code",
   "execution_count": 46,
   "id": "bc892cd4",
   "metadata": {},
   "outputs": [
    {
     "name": "stdout",
     "output_type": "stream",
     "text": [
      "array: [0.         1.57079633 3.14159265]\n",
      "---------------------------------------------------------\n",
      "sin of the array: [0.0000000e+00 1.0000000e+00 1.2246468e-16]\n",
      "---------------------------------------------------------\n",
      "cos of the array: [ 1.000000e+00  6.123234e-17 -1.000000e+00]\n",
      "---------------------------------------------------------\n",
      "tan of the array: [ 0.00000000e+00  1.63312394e+16 -1.22464680e-16]\n"
     ]
    }
   ],
   "source": [
    "# trignometric functions\n",
    "arr = np.array([0, np.pi/2, np.pi])\n",
    "print(f\"array: {arr}\")\n",
    "print(\"---------------------------------------------------------\")\n",
    "sin_arr = np.sin(arr)\n",
    "print(f\"sin of the array: {sin_arr}\")\n",
    "print(\"---------------------------------------------------------\")\n",
    "cos_arr = np.cos(arr)\n",
    "print(f\"cos of the array: {cos_arr}\")\n",
    "print(\"---------------------------------------------------------\")\n",
    "tan_arr = np.tan(arr)\n",
    "print(f\"tan of the array: {tan_arr}\")"
   ]
  },
  {
   "cell_type": "markdown",
   "id": "858bf20a",
   "metadata": {},
   "source": [
    "## 4. Statistical Operations"
   ]
  },
  {
   "cell_type": "code",
   "execution_count": 47,
   "id": "84bf29e6",
   "metadata": {},
   "outputs": [
    {
     "name": "stdout",
     "output_type": "stream",
     "text": [
      "array: [1 2 3 4 5]\n",
      "---------------------------------------------------------\n",
      "sum of the array: 15\n"
     ]
    }
   ],
   "source": [
    "# sum of an array\n",
    "arr = np.array([1, 2, 3, 4, 5])\n",
    "print(f\"array: {arr}\")\n",
    "print(\"---------------------------------------------------------\")\n",
    "sum_arr = np.sum(arr)\n",
    "print(f\"sum of the array: {sum_arr}\")"
   ]
  },
  {
   "cell_type": "code",
   "execution_count": 48,
   "id": "78475841",
   "metadata": {},
   "outputs": [
    {
     "name": "stdout",
     "output_type": "stream",
     "text": [
      "array:\n",
      "[[1 2 3]\n",
      " [4 5 6]]\n",
      "---------------------------------------------------------\n",
      "sum of the array: 21\n"
     ]
    }
   ],
   "source": [
    "# sum of 2d array\n",
    "arr = np.array([[1, 2, 3], [4, 5, 6]])\n",
    "print(f\"array:\\n{arr}\")\n",
    "print(\"---------------------------------------------------------\")\n",
    "sum_arr = np.sum(arr)\n",
    "print(f\"sum of the array: {sum_arr}\")"
   ]
  },
  {
   "cell_type": "code",
   "execution_count": 49,
   "id": "d0d8d992",
   "metadata": {},
   "outputs": [
    {
     "name": "stdout",
     "output_type": "stream",
     "text": [
      "array: [  0   3   6   9  12  15  18  21  24  27  30  33  36  39  42  45  48  51\n",
      "  54  57  60  63  66  69  72  75  78  81  84  87  90  93  96  99 102 105\n",
      " 108 111 114 117 120 123 126 129 132 135 138 141 144 147 150 153 156 159\n",
      " 162 165 168 171 174 177 180 183 186 189 192 195 198 201 204 207 210 213\n",
      " 216 219 222 225 228 231 234 237 240 243 246 249 252 255 258 261 264 267\n",
      " 270 273 276 279 282 285 288 291 294 297 300 303 306 309 312 315 318 321\n",
      " 324 327 330 333 336 339 342 345 348 351 354 357 360 363 366 369 372 375\n",
      " 378 381 384 387 390 393 396 399 402 405 408 411 414 417 420 423 426 429\n",
      " 432 435 438 441 444 447 450 453 456 459 462 465 468 471 474 477 480 483\n",
      " 486 489 492 495 498]\n",
      "---------------------------------------------------------\n",
      "mean of the array: 249.0\n"
     ]
    }
   ],
   "source": [
    "# mean of an array\n",
    "arr = np.arange(0, 500, 3)\n",
    "print(f\"array: {arr}\")\n",
    "print(\"---------------------------------------------------------\")\n",
    "mean_arr = np.mean(arr)\n",
    "print(f\"mean of the array: {mean_arr}\")"
   ]
  },
  {
   "cell_type": "code",
   "execution_count": 50,
   "id": "b52d8067",
   "metadata": {},
   "outputs": [
    {
     "name": "stdout",
     "output_type": "stream",
     "text": [
      "array: [  0   3   6   9  12  15  18  21  24  27  30  33  36  39  42  45  48  51\n",
      "  54  57  60  63  66  69  72  75  78  81  84  87  90  93  96  99 102 105\n",
      " 108 111 114 117 120 123 126 129 132 135 138 141 144 147 150 153 156 159\n",
      " 162 165 168 171 174 177 180 183 186 189 192 195 198 201 204 207 210 213\n",
      " 216 219 222 225 228 231 234 237 240 243 246 249 252 255 258 261 264 267\n",
      " 270 273 276 279 282 285 288 291 294 297 300 303 306 309 312 315 318 321\n",
      " 324 327 330 333 336 339 342 345 348 351 354 357 360 363 366 369 372 375\n",
      " 378 381 384 387 390 393 396 399 402 405 408 411 414 417 420 423 426 429\n",
      " 432 435 438 441 444 447 450 453 456 459 462 465 468 471 474 477 480 483\n",
      " 486 489 492 495 498]\n",
      "---------------------------------------------------------\n",
      "median of the array: 249.0\n"
     ]
    }
   ],
   "source": [
    "# median of an array\n",
    "arr = np.arange(0, 500, 3)\n",
    "print(f\"array: {arr}\")\n",
    "print(\"---------------------------------------------------------\")\n",
    "median_arr = np.median(arr)\n",
    "print(f\"median of the array: {median_arr}\")"
   ]
  },
  {
   "cell_type": "markdown",
   "id": "ef559241",
   "metadata": {},
   "source": [
    "## How to find a mode using numpy? is it doable or we need to use another library?"
   ]
  },
  {
   "cell_type": "code",
   "execution_count": null,
   "id": "7840f43b",
   "metadata": {},
   "outputs": [],
   "source": [
    "# # find mode of an array\n",
    "# arr = np.array([1, 2, 3, 4, 5, 6, 2, 3, 4, 3, 4])\n",
    "# print(f\"array: {arr}\")\n",
    "# print(\"---------------------------------------------------------\")\n",
    "# mode_arr = np.mode(arr)\n",
    "# print(f\"mode of the array: {mode_arr}\")"
   ]
  },
  {
   "cell_type": "code",
   "execution_count": 51,
   "id": "0fb24916",
   "metadata": {},
   "outputs": [
    {
     "name": "stdout",
     "output_type": "stream",
     "text": [
      "array: [  0   3   6   9  12  15  18  21  24  27  30  33  36  39  42  45  48  51\n",
      "  54  57  60  63  66  69  72  75  78  81  84  87  90  93  96  99 102 105\n",
      " 108 111 114 117 120 123 126 129 132 135 138 141 144 147 150 153 156 159\n",
      " 162 165 168 171 174 177 180 183 186 189 192 195 198 201 204 207 210 213\n",
      " 216 219 222 225 228 231 234 237 240 243 246 249 252 255 258 261 264 267\n",
      " 270 273 276 279 282 285 288 291 294 297 300 303 306 309 312 315 318 321\n",
      " 324 327 330 333 336 339 342 345 348 351 354 357 360 363 366 369 372 375\n",
      " 378 381 384 387 390 393 396 399 402 405 408 411 414 417 420 423 426 429\n",
      " 432 435 438 441 444 447 450 453 456 459 462 465 468 471 474 477 480 483\n",
      " 486 489 492 495 498]\n",
      "---------------------------------------------------------\n",
      "standard deviation of the array: 144.6236495183274\n"
     ]
    }
   ],
   "source": [
    "# standard deviation of an array\n",
    "arr = np.arange(0, 500, 3)\n",
    "print(f\"array: {arr}\")\n",
    "print(\"---------------------------------------------------------\")\n",
    "std_arr = np.std(arr)\n",
    "print(f\"standard deviation of the array: {std_arr}\")"
   ]
  },
  {
   "cell_type": "markdown",
   "id": "d230e82f",
   "metadata": {},
   "source": [
    "- Standard deviation is a measure of the amount of variation or dispersion of a set of values. A low standard deviation indicates that the values tend to be close to the mean, while a high standard deviation indicates that the values are spread out over a wider range."
   ]
  },
  {
   "cell_type": "code",
   "execution_count": 52,
   "id": "303e0438",
   "metadata": {},
   "outputs": [
    {
     "name": "stdout",
     "output_type": "stream",
     "text": [
      "array: [  0   3   6   9  12  15  18  21  24  27  30  33  36  39  42  45  48  51\n",
      "  54  57  60  63  66  69  72  75  78  81  84  87  90  93  96  99 102 105\n",
      " 108 111 114 117 120 123 126 129 132 135 138 141 144 147 150 153 156 159\n",
      " 162 165 168 171 174 177 180 183 186 189 192 195 198 201 204 207 210 213\n",
      " 216 219 222 225 228 231 234 237 240 243 246 249 252 255 258 261 264 267\n",
      " 270 273 276 279 282 285 288 291 294 297 300 303 306 309 312 315 318 321\n",
      " 324 327 330 333 336 339 342 345 348 351 354 357 360 363 366 369 372 375\n",
      " 378 381 384 387 390 393 396 399 402 405 408 411 414 417 420 423 426 429\n",
      " 432 435 438 441 444 447 450 453 456 459 462 465 468 471 474 477 480 483\n",
      " 486 489 492 495 498]\n",
      "---------------------------------------------------------\n",
      "variance of the array: 20916.0\n"
     ]
    }
   ],
   "source": [
    "# variance of an array\n",
    "arr = np.arange(0, 500, 3)\n",
    "print(f\"array: {arr}\")\n",
    "print(\"---------------------------------------------------------\")\n",
    "var_arr = np.var(arr)\n",
    "print(f\"variance of the array: {var_arr}\")"
   ]
  },
  {
   "cell_type": "markdown",
   "id": "21f591bd",
   "metadata": {},
   "source": [
    "---------------------------------------------------------\n",
    "standard error of the array: 11.191313997115618\n",
    "Standard error is a measure of the variability of sample means around the population mean. It is calculated as the standard deviation of the sample divided by the square root of the sample size."
   ]
  },
  {
   "cell_type": "code",
   "execution_count": 53,
   "id": "9c3b9d35",
   "metadata": {},
   "outputs": [
    {
     "data": {
      "text/plain": [
       "np.int64(1)"
      ]
     },
     "execution_count": 53,
     "metadata": {},
     "output_type": "execute_result"
    }
   ],
   "source": [
    "# minimum value of an array\n",
    "arr = np.array([1, 2, 3, 4, 5])\n",
    "np.min(arr)"
   ]
  },
  {
   "cell_type": "code",
   "execution_count": 54,
   "id": "9830392d",
   "metadata": {},
   "outputs": [
    {
     "data": {
      "text/plain": [
       "np.int64(5)"
      ]
     },
     "execution_count": 54,
     "metadata": {},
     "output_type": "execute_result"
    }
   ],
   "source": [
    "# maximum value of an array\n",
    "arr = np.array([1, 2, 3, 4, 5])\n",
    "np.max(arr)"
   ]
  },
  {
   "cell_type": "code",
   "execution_count": 55,
   "id": "be7ee474",
   "metadata": {},
   "outputs": [
    {
     "name": "stdout",
     "output_type": "stream",
     "text": [
      "array: [  0   3   6   9  12  15  18  21  24  27  30  33  36  39  42  45  48  51\n",
      "  54  57  60  63  66  69  72  75  78  81  84  87  90  93  96  99 102 105\n",
      " 108 111 114 117 120 123 126 129 132 135 138 141 144 147 150 153 156 159\n",
      " 162 165 168 171 174 177 180 183 186 189 192 195 198 201 204 207 210 213\n",
      " 216 219 222 225 228 231 234 237 240 243 246 249 252 255 258 261 264 267\n",
      " 270 273 276 279 282 285 288 291 294 297 300 303 306 309 312 315 318 321\n",
      " 324 327 330 333 336 339 342 345 348 351 354 357 360 363 366 369 372 375\n",
      " 378 381 384 387 390 393 396 399 402 405 408 411 414 417 420 423 426 429\n",
      " 432 435 438 441 444 447 450 453 456 459 462 465 468 471 474 477 480 483\n",
      " 486 489 492 495 498]\n",
      "---------------------------------------------------------\n",
      "50th percentile of the array: 249.0\n",
      "---------------------------------------------------------\n",
      "75th percentile of the array: 373.5\n",
      "---------------------------------------------------------\n",
      "90th percentile of the array: 448.20000000000005\n"
     ]
    }
   ],
   "source": [
    "# percentile\n",
    "arr = np.arange(0, 500, 3)\n",
    "print(f\"array: {arr}\")\n",
    "print(\"---------------------------------------------------------\")\n",
    "percentile_arr = np.percentile(arr, 50)\n",
    "print(f\"50th percentile of the array: {percentile_arr}\")\n",
    "print(\"---------------------------------------------------------\")\n",
    "percentile_arr = np.percentile(arr, 75)\n",
    "print(f\"75th percentile of the array: {percentile_arr}\")\n",
    "print(\"---------------------------------------------------------\")\n",
    "percentile_arr = np.percentile(arr, 90)\n",
    "print(f\"90th percentile of the array: {percentile_arr}\")"
   ]
  },
  {
   "cell_type": "code",
   "execution_count": 56,
   "id": "9b914c7a",
   "metadata": {},
   "outputs": [
    {
     "name": "stdout",
     "output_type": "stream",
     "text": [
      "array: [1 2 3 4 5]\n",
      "---------------------------------------------------------\n",
      "cumulative sum of the array: [ 1  3  6 10 15]\n"
     ]
    }
   ],
   "source": [
    "# commulative sum\n",
    "arr = np.array([1, 2, 3, 4, 5])\n",
    "print(f\"array: {arr}\")\n",
    "print(\"---------------------------------------------------------\")\n",
    "cumsum_arr = np.cumsum(arr)\n",
    "print(f\"cumulative sum of the array: {cumsum_arr}\")"
   ]
  },
  {
   "cell_type": "code",
   "execution_count": 57,
   "id": "916c8eca",
   "metadata": {},
   "outputs": [
    {
     "name": "stdout",
     "output_type": "stream",
     "text": [
      "array: [1 2 3 4 5]\n",
      "---------------------------------------------------------\n",
      "cumulative product of the array: [  1   2   6  24 120]\n"
     ]
    }
   ],
   "source": [
    "# commulative product\n",
    "arr = np.array([1, 2, 3, 4, 5])\n",
    "print(f\"array: {arr}\")\n",
    "print(\"---------------------------------------------------------\")\n",
    "cumprod_arr = np.cumprod(arr)\n",
    "print(f\"cumulative product of the array: {cumprod_arr}\")"
   ]
  },
  {
   "cell_type": "code",
   "execution_count": 58,
   "id": "8fca84ff",
   "metadata": {},
   "outputs": [
    {
     "name": "stdout",
     "output_type": "stream",
     "text": [
      "mean: 0.0019500413050849658\n",
      "standard deviation: 1.0134854470919072\n",
      "variance: 1.0271527514670833\n",
      "standard error: 0.032049223882445\n",
      "statistic: 0.9985453793856875, p-value: 0.5845152860001485\n",
      "Data is normally distributed\n"
     ]
    },
    {
     "data": {
      "text/plain": [
       "(array([0.00974392, 0.00487196, 0.02435981, 0.04871962, 0.05359158,\n",
       "        0.11205513, 0.11692709, 0.13154297, 0.15103082, 0.24847006,\n",
       "        0.25334202, 0.31667753, 0.35565323, 0.44334854, 0.45309247,\n",
       "        0.39950088, 0.29231772, 0.31667753, 0.2825738 , 0.21436633,\n",
       "        0.19000652, 0.16077475, 0.08282335, 0.06820747, 0.05846354,\n",
       "        0.04384766, 0.00974392, 0.01948785, 0.00487196, 0.00487196]),\n",
       " array([-2.95755447, -2.75229836, -2.54704224, -2.34178612, -2.13653001,\n",
       "        -1.93127389, -1.72601777, -1.52076166, -1.31550554, -1.11024942,\n",
       "        -0.90499331, -0.69973719, -0.49448107, -0.28922495, -0.08396884,\n",
       "         0.12128728,  0.3265434 ,  0.53179951,  0.73705563,  0.94231175,\n",
       "         1.14756786,  1.35282398,  1.5580801 ,  1.76333621,  1.96859233,\n",
       "         2.17384845,  2.37910456,  2.58436068,  2.7896168 ,  2.99487292,\n",
       "         3.20012903]),\n",
       " <BarContainer object of 30 artists>)"
      ]
     },
     "execution_count": 58,
     "metadata": {},
     "output_type": "execute_result"
    },
    {
     "data": {
      "image/png": "[encoded data removed]",
      "text/plain": [
       "<Figure size 640x480 with 1 Axes>"
      ]
     },
     "metadata": {},
     "output_type": "display_data"
    }
   ],
   "source": [
    "# create a data having normal distribution\n",
    "data = np.random.randn(1000)\n",
    "print(f\"mean: {np.mean(data)}\")\n",
    "print(f\"standard deviation: {np.std(data)}\")\n",
    "print(f\"variance: {np.var(data)}\")\n",
    "print(f\"standard error: {np.std(data) / np.sqrt(len(data))}\")\n",
    "# test the normality of the data\n",
    "from scipy.stats import shapiro\n",
    "stat, p = shapiro(data)\n",
    "print(f\"statistic: {stat}, p-value: {p}\")\n",
    "if p > 0.05:\n",
    "    print(\"Data is normally distributed\")\n",
    "else:\n",
    "    print(\"Data is not normally distributed\")\n",
    "\n",
    "# plot the data using density plot\n",
    "import matplotlib.pyplot as plt\n",
    "plt.hist(data, bins=30, density=True)"
   ]
  },
  {
   "cell_type": "code",
   "execution_count": 59,
   "id": "12fae79d",
   "metadata": {},
   "outputs": [
    {
     "name": "stdout",
     "output_type": "stream",
     "text": [
      "Data is not normally distributed\n"
     ]
    },
    {
     "data": {
      "text/plain": [
       "(array([38., 34., 37., 34., 27., 35., 37., 24., 27., 26., 30., 46., 34.,\n",
       "        42., 29., 32., 27., 34., 37., 36., 37., 28., 37., 37., 41., 32.,\n",
       "        22., 32., 34., 34.]),\n",
       " array([9.10357460e-04, 3.42063987e-02, 6.75024400e-02, 1.00798481e-01,\n",
       "        1.34094523e-01, 1.67390564e-01, 2.00686605e-01, 2.33982646e-01,\n",
       "        2.67278688e-01, 3.00574729e-01, 3.33870770e-01, 3.67166811e-01,\n",
       "        4.00462853e-01, 4.33758894e-01, 4.67054935e-01, 5.00350977e-01,\n",
       "        5.33647018e-01, 5.66943059e-01, 6.00239100e-01, 6.33535142e-01,\n",
       "        6.66831183e-01, 7.00127224e-01, 7.33423265e-01, 7.66719307e-01,\n",
       "        8.00015348e-01, 8.33311389e-01, 8.66607431e-01, 8.99903472e-01,\n",
       "        9.33199513e-01, 9.66495554e-01, 9.99791596e-01]),\n",
       " <BarContainer object of 30 artists>)"
      ]
     },
     "execution_count": 59,
     "metadata": {},
     "output_type": "execute_result"
    },
    {
     "data": {
      "image/png": "[encoded data removed]",
      "text/plain": [
       "<Figure size 640x480 with 1 Axes>"
      ]
     },
     "metadata": {},
     "output_type": "display_data"
    }
   ],
   "source": [
    "# create a data having uniform distribution\n",
    "data = np.random.rand(1000)\n",
    "from scipy.stats import shapiro\n",
    "stat, p = shapiro(data)\n",
    "if p > 0.05:\n",
    "    print(\"Data is normally distributed\")\n",
    "else:\n",
    "    print(\"Data is not normally distributed\")\n",
    "\n",
    "# plot a histogram\n",
    "import matplotlib.pyplot as plt\n",
    "plt.hist(data, bins=30)"
   ]
  },
  {
   "cell_type": "code",
   "execution_count": 60,
   "id": "eed3f7cd",
   "metadata": {},
   "outputs": [
    {
     "data": {
      "text/plain": [
       "(array([219., 141., 116., 109.,  77.,  65.,  48.,  45.,  35.,  27.,  16.,\n",
       "         23.,  18.,  11.,  10.,  11.,   7.,   6.,   3.,   2.,   0.,   1.,\n",
       "          1.,   1.,   1.,   2.,   1.,   2.,   0.,   2.]),\n",
       " array([6.95293223e-04, 2.22399390e-01, 4.44103487e-01, 6.65807584e-01,\n",
       "        8.87511681e-01, 1.10921578e+00, 1.33091987e+00, 1.55262397e+00,\n",
       "        1.77432807e+00, 1.99603217e+00, 2.21773626e+00, 2.43944036e+00,\n",
       "        2.66114446e+00, 2.88284855e+00, 3.10455265e+00, 3.32625675e+00,\n",
       "        3.54796084e+00, 3.76966494e+00, 3.99136904e+00, 4.21307313e+00,\n",
       "        4.43477723e+00, 4.65648133e+00, 4.87818542e+00, 5.09988952e+00,\n",
       "        5.32159362e+00, 5.54329772e+00, 5.76500181e+00, 5.98670591e+00,\n",
       "        6.20841001e+00, 6.43011410e+00, 6.65181820e+00]),\n",
       " <BarContainer object of 30 artists>)"
      ]
     },
     "execution_count": 60,
     "metadata": {},
     "output_type": "execute_result"
    },
    {
     "data": {
      "image/png": "[encoded data removed]",
      "text/plain": [
       "<Figure size 640x480 with 1 Axes>"
      ]
     },
     "metadata": {},
     "output_type": "display_data"
    }
   ],
   "source": [
    "# create a data having exponential distribution\n",
    "data = np.random.exponential(1, 1000)\n",
    "# plot\n",
    "import matplotlib.pyplot as plt\n",
    "plt.hist(data, bins=30)"
   ]
  },
  {
   "cell_type": "code",
   "execution_count": 61,
   "id": "bedf04e6",
   "metadata": {},
   "outputs": [
    {
     "data": {
      "text/plain": [
       "(array([367.,   0.,   0.,   0.,   0.,   0., 360.,   0.,   0.,   0.,   0.,\n",
       "          0., 181.,   0.,   0.,   0.,   0.,   0.,  71.,   0.,   0.,   0.,\n",
       "          0.,   0.,  18.,   0.,   0.,   0.,   0.,   3.]),\n",
       " array([0.        , 0.16666667, 0.33333333, 0.5       , 0.66666667,\n",
       "        0.83333333, 1.        , 1.16666667, 1.33333333, 1.5       ,\n",
       "        1.66666667, 1.83333333, 2.        , 2.16666667, 2.33333333,\n",
       "        2.5       , 2.66666667, 2.83333333, 3.        , 3.16666667,\n",
       "        3.33333333, 3.5       , 3.66666667, 3.83333333, 4.        ,\n",
       "        4.16666667, 4.33333333, 4.5       , 4.66666667, 4.83333333,\n",
       "        5.        ]),\n",
       " <BarContainer object of 30 artists>)"
      ]
     },
     "execution_count": 61,
     "metadata": {},
     "output_type": "execute_result"
    },
    {
     "data": {
      "image/png": "[encoded data removed]",
      "text/plain": [
       "<Figure size 640x480 with 1 Axes>"
      ]
     },
     "metadata": {},
     "output_type": "display_data"
    }
   ],
   "source": [
    "# create a data having poisson distribution\n",
    "data = np.random.poisson(1, 1000)\n",
    "# plot\n",
    "import matplotlib.pyplot as plt\n",
    "plt.hist(data, bins=30)\n"
   ]
  },
  {
   "cell_type": "code",
   "execution_count": 62,
   "id": "e9090ca2",
   "metadata": {},
   "outputs": [
    {
     "data": {
      "text/plain": [
       "(array([  7.,   0.,   0.,  51.,   0.,   0., 122.,   0.,   0.,   0., 201.,\n",
       "          0.,   0., 260.,   0.,   0., 188.,   0.,   0.,   0., 115.,   0.,\n",
       "          0.,  46.,   0.,   0.,   7.,   0.,   0.,   3.]),\n",
       " array([ 1. ,  1.3,  1.6,  1.9,  2.2,  2.5,  2.8,  3.1,  3.4,  3.7,  4. ,\n",
       "         4.3,  4.6,  4.9,  5.2,  5.5,  5.8,  6.1,  6.4,  6.7,  7. ,  7.3,\n",
       "         7.6,  7.9,  8.2,  8.5,  8.8,  9.1,  9.4,  9.7, 10. ]),\n",
       " <BarContainer object of 30 artists>)"
      ]
     },
     "execution_count": 62,
     "metadata": {},
     "output_type": "execute_result"
    },
    {
     "data": {
      "image/png": "[encoded data removed]",
      "text/plain": [
       "<Figure size 640x480 with 1 Axes>"
      ]
     },
     "metadata": {},
     "output_type": "display_data"
    }
   ],
   "source": [
    "# create a data having binomial distribution\n",
    "data = np.random.binomial(10, 0.5, 1000)\n",
    "# plot\n",
    "import matplotlib.pyplot as plt\n",
    "plt.hist(data, bins=30)"
   ]
  },
  {
   "cell_type": "markdown",
   "id": "f869b775",
   "metadata": {},
   "source": [
    "- Binomial distribution is a discrete probability distribution that describes the number of successes in a fixed number of independent Bernoulli trials, each with the same probability of success. The binomial distribution is characterized by two parameters: the number of trials n and the probability of success p."
   ]
  },
  {
   "cell_type": "code",
   "execution_count": 63,
   "id": "e558b438",
   "metadata": {},
   "outputs": [
    {
     "data": {
      "text/plain": [
       "(array([  2.,   5.,  14.,  38.,  56.,  87., 136., 143., 135., 119., 103.,\n",
       "         78.,  40.,  28.,  19.,  21.,  18.,  37.,  51., 104., 115., 143.,\n",
       "        141., 134., 104.,  66.,  36.,  19.,   5.,   3.]),\n",
       " array([-2.98883792, -2.6231333 , -2.25742869, -1.89172408, -1.52601946,\n",
       "        -1.16031485, -0.79461023, -0.42890562, -0.063201  ,  0.30250361,\n",
       "         0.66820822,  1.03391284,  1.39961745,  1.76532207,  2.13102668,\n",
       "         2.4967313 ,  2.86243591,  3.22814052,  3.59384514,  3.95954975,\n",
       "         4.32525437,  4.69095898,  5.0566636 ,  5.42236821,  5.78807282,\n",
       "         6.15377744,  6.51948205,  6.88518667,  7.25089128,  7.6165959 ,\n",
       "         7.98230051]),\n",
       " <BarContainer object of 30 artists>)"
      ]
     },
     "execution_count": 63,
     "metadata": {},
     "output_type": "execute_result"
    },
    {
     "data": {
      "image/png": "[encoded data removed]",
      "text/plain": [
       "<Figure size 640x480 with 1 Axes>"
      ]
     },
     "metadata": {},
     "output_type": "display_data"
    }
   ],
   "source": [
    "# create a bimodal data\n",
    "data1 = np.random.normal(0, 1, 1000)\n",
    "data2 = np.random.normal(5, 1, 1000)\n",
    "data = np.concatenate((data1, data2))\n",
    "# plot\n",
    "import matplotlib.pyplot as plt\n",
    "plt.hist(data, bins=30)"
   ]
  },
  {
   "cell_type": "markdown",
   "id": "cdcdee8b",
   "metadata": {},
   "source": [
    "## 5. Logical Operations"
   ]
  },
  {
   "cell_type": "code",
   "execution_count": 64,
   "id": "ede322e5",
   "metadata": {},
   "outputs": [
    {
     "name": "stdout",
     "output_type": "stream",
     "text": [
      "array: [1 2 3 4 5]\n",
      "---------------------------------------------------------\n",
      "elements greater than 3: [4 5]\n"
     ]
    }
   ],
   "source": [
    "# where function\n",
    "arr = np.array([1, 2, 3, 4, 5])\n",
    "print(f\"array: {arr}\")\n",
    "print(\"---------------------------------------------------------\")\n",
    "where_arr = np.where(arr > 3)\n",
    "print(f\"elements greater than 3: {arr[where_arr]}\")"
   ]
  },
  {
   "cell_type": "code",
   "execution_count": 65,
   "id": "28c7a095",
   "metadata": {},
   "outputs": [
    {
     "name": "stdout",
     "output_type": "stream",
     "text": [
      "array: [1 2 3 4 5]\n",
      "---------------------------------------------------------\n",
      "any element greater than 3: True\n"
     ]
    }
   ],
   "source": [
    "# any function checks if any element in an array is True\n",
    "arr = np.array([1, 2, 3, 4, 5])\n",
    "print(f\"array: {arr}\")\n",
    "print(\"---------------------------------------------------------\")\n",
    "any_arr = np.any(arr > 3)\n",
    "print(f\"any element greater than 3: {any_arr}\")"
   ]
  },
  {
   "cell_type": "code",
   "execution_count": 66,
   "id": "29d79ce3",
   "metadata": {},
   "outputs": [
    {
     "name": "stdout",
     "output_type": "stream",
     "text": [
      "array: [1 2 3 4 5]\n",
      "---------------------------------------------------------\n",
      "all elements greater than 3: False\n"
     ]
    }
   ],
   "source": [
    "# np.all Checks if all numbers in an array are greater than 3\n",
    "arr = np.array([1, 2, 3, 4, 5])\n",
    "print(f\"array: {arr}\")\n",
    "print(\"---------------------------------------------------------\")\n",
    "all_arr = np.all(arr > 3)\n",
    "print(f\"all elements greater than 3: {all_arr}\")"
   ]
  },
  {
   "cell_type": "code",
   "execution_count": 67,
   "id": "2eaa1d52",
   "metadata": {},
   "outputs": [
    {
     "name": "stdout",
     "output_type": "stream",
     "text": [
      "array1: [1 2 3 4 5]\n",
      "array2: [4 5 6 7 8]\n",
      "---------------------------------------------------------\n",
      "elements in array1 that are also in array2: [4 5]\n"
     ]
    }
   ],
   "source": [
    "# check if elemenets are in another array\n",
    "arr1 = np.array([1, 2, 3, 4, 5])\n",
    "arr2 = np.array([4, 5, 6, 7, 8])\n",
    "print(f\"array1: {arr1}\")\n",
    "print(f\"array2: {arr2}\")\n",
    "print(\"---------------------------------------------------------\")\n",
    "isin_arr = np.isin(arr1, arr2)\n",
    "print(f\"elements in array1 that are also in array2: {arr1[isin_arr]}\")"
   ]
  },
  {
   "cell_type": "code",
   "execution_count": 68,
   "id": "328a7b2e",
   "metadata": {},
   "outputs": [
    {
     "name": "stdout",
     "output_type": "stream",
     "text": [
      "array: [1 2 3 4 5 1 2 3 4 5]\n",
      "---------------------------------------------------------\n",
      "unique elements in the array: [1 2 3 4 5]\n"
     ]
    }
   ],
   "source": [
    "# unique\n",
    "arr = np.array([1, 2, 3, 4, 5, 1, 2, 3, 4, 5])\n",
    "print(f\"array: {arr}\")\n",
    "print(\"---------------------------------------------------------\")\n",
    "unique_arr = np.unique(arr)\n",
    "print(f\"unique elements in the array: {unique_arr}\")"
   ]
  },
  {
   "cell_type": "code",
   "execution_count": 69,
   "id": "1ae2c1ae",
   "metadata": {},
   "outputs": [
    {
     "name": "stdout",
     "output_type": "stream",
     "text": [
      "array1: [1 2 3 4 5]\n",
      "array2: [4 5 6 7 8]\n",
      "---------------------------------------------------------\n",
      "union of array1 and array2: [1 2 3 4 5 6 7 8]\n",
      "---------------------------------------------------------\n",
      "intersection of array1 and array2: [4 5]\n",
      "---------------------------------------------------------\n",
      "difference of array1 and array2: [1 2 3]\n",
      "---------------------------------------------------------\n",
      "symmetric difference of array1 and array2: [1 2 3 6 7 8]\n"
     ]
    }
   ],
   "source": [
    "# set operations\n",
    "arr1 = np.array([1, 2, 3, 4, 5])\n",
    "arr2 = np.array([4, 5, 6, 7, 8])\n",
    "print(f\"array1: {arr1}\")\n",
    "print(f\"array2: {arr2}\")\n",
    "print(\"---------------------------------------------------------\")\n",
    "\n",
    "# union\n",
    "union_arr = np.union1d(arr1, arr2)\n",
    "print(f\"union of array1 and array2: {union_arr}\")\n",
    "print(\"---------------------------------------------------------\")\n",
    "# intersection\n",
    "intersection_arr = np.intersect1d(arr1, arr2)\n",
    "print(f\"intersection of array1 and array2: {intersection_arr}\")\n",
    "print(\"---------------------------------------------------------\")\n",
    "\n",
    "# difference\n",
    "diff_arr = np.setdiff1d(arr1, arr2)\n",
    "print(f\"difference of array1 and array2: {diff_arr}\")\n",
    "print(\"---------------------------------------------------------\")\n",
    "\n",
    "# symmetric difference\n",
    "sym_diff_arr = np.setxor1d(arr1, arr2)\n",
    "print(f\"symmetric difference of array1 and array2: {sym_diff_arr}\")"
   ]
  },
  {
   "cell_type": "markdown",
   "id": "8853db82",
   "metadata": {},
   "source": [
    "- Sytematic difference of two arrays is calculated using the np.setdiff1d() function."
   ]
  },
  {
   "cell_type": "markdown",
   "id": "7ce4e277",
   "metadata": {},
   "source": [
    "## 6. Linear Algebra"
   ]
  },
  {
   "cell_type": "code",
   "execution_count": 70,
   "id": "578dd018",
   "metadata": {},
   "outputs": [
    {
     "name": "stdout",
     "output_type": "stream",
     "text": [
      "array1: [1 2 3]\n",
      "array2: [4 5 6]\n",
      "---------------------------------------------------------\n",
      "dot product of array1 and array2: 32\n"
     ]
    }
   ],
   "source": [
    "# dot product of two arrays\n",
    "arr1 = np.array([1, 2, 3])\n",
    "arr2 = np.array([4, 5, 6])\n",
    "print(f\"array1: {arr1}\")\n",
    "print(f\"array2: {arr2}\")\n",
    "print(\"---------------------------------------------------------\")\n",
    "dot_arr = np.dot(arr1, arr2)\n",
    "print(f\"dot product of array1 and array2: {dot_arr}\")"
   ]
  },
  {
   "cell_type": "markdown",
   "id": "937812e5",
   "metadata": {},
   "source": [
    "- Dot product of array1 and array2: 32\n",
    "The dot product of two arrays is calculated using the np.dot() function.\n",
    "\n",
    "- The dot product of two arrays is the sum of the products of the corresponding elements of the two arrays."
   ]
  },
  {
   "cell_type": "code",
   "execution_count": 71,
   "id": "bc7c0ff4",
   "metadata": {},
   "outputs": [
    {
     "name": "stdout",
     "output_type": "stream",
     "text": [
      "matrix:\n",
      "[[1 2 3]\n",
      " [4 5 6]]\n"
     ]
    }
   ],
   "source": [
    "# creating a matrix\n",
    "matrix = np.array([[1, 2, 3], [4, 5, 6]])\n",
    "print(f\"matrix:\\n{matrix}\")"
   ]
  },
  {
   "cell_type": "code",
   "execution_count": 72,
   "id": "5b453f89",
   "metadata": {},
   "outputs": [
    {
     "name": "stdout",
     "output_type": "stream",
     "text": [
      "matrix:\n",
      "[[1 2 3]\n",
      " [4 5 6]]\n"
     ]
    }
   ],
   "source": [
    "# matrix using arange\n",
    "matrix = np.arange(1, 7).reshape(2, 3)\n",
    "print(f\"matrix:\\n{matrix}\")"
   ]
  },
  {
   "cell_type": "code",
   "execution_count": 73,
   "id": "80f2f27a",
   "metadata": {},
   "outputs": [
    {
     "name": "stdout",
     "output_type": "stream",
     "text": [
      "matrix1:\n",
      "[[1 2 3]\n",
      " [4 5 6]]\n",
      "matrix2:\n",
      "[[ 7  8]\n",
      " [ 9 10]\n",
      " [11 12]]\n",
      "---------------------------------------------------------\n",
      "matrix multiplication of matrix1 and matrix2:\n",
      "[[ 58  64]\n",
      " [139 154]]\n"
     ]
    }
   ],
   "source": [
    "# matrix multiplication\n",
    "matrix1 = np.array([[1, 2, 3], [4, 5, 6]])\n",
    "matrix2 = np.array([[7, 8], [9, 10], [11, 12]])\n",
    "print(f\"matrix1:\\n{matrix1}\")\n",
    "print(f\"matrix2:\\n{matrix2}\")\n",
    "print(\"---------------------------------------------------------\")\n",
    "matrix_mul = np.matmul(matrix1, matrix2)\n",
    "print(f\"matrix multiplication of matrix1 and matrix2:\\n{matrix_mul}\")"
   ]
  },
  {
   "cell_type": "markdown",
   "id": "9ba322b7",
   "metadata": {},
   "source": [
    "## Matrix Multiplication\n",
    "- matrix multiplication is calculated using the np.matmul() function.\n",
    "- Matrix multiplication is a binary operation that takes two matrices as inputs and produces another matrix as output. - The number of columns in the first matrix must be equal to the number of rows in the second matrix for the multiplication to be defined.\n",
    "\n",
    "Where A is an m x n matrix, B is an n x p matrix, and C is an m x p matrix. The element C[i, j] is the dot product of the i-th row of A and the j-th column of B."
   ]
  },
  {
   "cell_type": "code",
   "execution_count": 74,
   "id": "6ebb75ae",
   "metadata": {},
   "outputs": [
    {
     "name": "stdout",
     "output_type": "stream",
     "text": [
      "matrix:\n",
      "[[1 2]\n",
      " [3 4]]\n",
      "---------------------------------------------------------\n",
      "determinant of the matrix: -2.0000000000000004\n"
     ]
    }
   ],
   "source": [
    "# determinant of a matrix\n",
    "matrix = np.array([[1, 2], [3, 4]])\n",
    "print(f\"matrix:\\n{matrix}\")\n",
    "print(\"---------------------------------------------------------\")\n",
    "det_matrix = np.linalg.det(matrix)\n",
    "print(f\"determinant of the matrix: {det_matrix}\")"
   ]
  },
  {
   "cell_type": "code",
   "execution_count": 75,
   "id": "31ff13ea",
   "metadata": {},
   "outputs": [
    {
     "name": "stdout",
     "output_type": "stream",
     "text": [
      "matrix:\n",
      "[[1 2]\n",
      " [3 4]]\n",
      "---------------------------------------------------------\n",
      "eigenvalues of the matrix: [-0.37228132  5.37228132]\n",
      "eigenvectors of the matrix: [[-0.82456484 -0.41597356]\n",
      " [ 0.56576746 -0.90937671]]\n"
     ]
    }
   ],
   "source": [
    "# eigenvalues and eigenvectors of a matrix\n",
    "matrix = np.array([[1, 2], [3, 4]])\n",
    "print(f\"matrix:\\n{matrix}\")\n",
    "print(\"---------------------------------------------------------\")\n",
    "eigenvalues, eigenvectors = np.linalg.eig(matrix)\n",
    "print(f\"eigenvalues of the matrix: {eigenvalues}\")\n",
    "print(f\"eigenvectors of the matrix: {eigenvectors}\")"
   ]
  },
  {
   "cell_type": "markdown",
   "id": "f540b26a",
   "metadata": {},
   "source": [
    "- Eigenvalues and eigenvectors of a matrix are calculated using the np.linalg.eig() function.\n",
    "- Eigenvalues and eigenvectors are properties of square matrices that describe how the matrix behaves when multiplied by a vector.\n",
    "- The eigenvectors of a matrix are the vectors that remain in the same direction after the matrix transformation, while the eigenvalues are the scaling factors by which the eigenvectors are stretched or compressed.\n",
    "- The eigenvectors and eigenvalues of a matrix are used in various applications, such as principal component analysis (PCA) and solving differential equations."
   ]
  },
  {
   "cell_type": "markdown",
   "id": "27273628",
   "metadata": {},
   "source": [
    "## 7. Utility Functions"
   ]
  },
  {
   "cell_type": "code",
   "execution_count": 76,
   "id": "0a6d30de",
   "metadata": {},
   "outputs": [
    {
     "name": "stdout",
     "output_type": "stream",
     "text": [
      "array: [3 2 1 4 5]\n",
      "---------------------------------------------------------\n",
      "sorted array: [1 2 3 4 5]\n"
     ]
    }
   ],
   "source": [
    "# sort an array\n",
    "arr = np.array([3, 2, 1, 4, 5])\n",
    "print(f\"array: {arr}\")\n",
    "print(\"---------------------------------------------------------\")\n",
    "sorted_arr = np.sort(arr)\n",
    "print(f\"sorted array: {sorted_arr}\")"
   ]
  },
  {
   "cell_type": "code",
   "execution_count": 77,
   "id": "9e4c7ce4",
   "metadata": {},
   "outputs": [
    {
     "name": "stdout",
     "output_type": "stream",
     "text": [
      "matrix:\n",
      "[[3 2 1]\n",
      " [6 5 4]]\n",
      "---------------------------------------------------------\n",
      "sorted matrix:\n",
      "[[1 2 3]\n",
      " [4 5 6]]\n"
     ]
    }
   ],
   "source": [
    "# sort a 2D array\n",
    "matrix = np.array([[3, 2, 1], [6, 5, 4]])\n",
    "print(f\"matrix:\\n{matrix}\")\n",
    "print(\"---------------------------------------------------------\")\n",
    "sorted_matrix = np.sort(matrix)\n",
    "print(f\"sorted matrix:\\n{sorted_matrix}\")"
   ]
  },
  {
   "cell_type": "code",
   "execution_count": 78,
   "id": "57ae20c4",
   "metadata": {},
   "outputs": [
    {
     "name": "stdout",
     "output_type": "stream",
     "text": [
      "matrix:\n",
      "[[6 5 4]\n",
      " [3 2 1]\n",
      " [9 8 7]]\n",
      "---------------------------------------------------------\n",
      "sorted matrix by column:\n",
      "[[3 2 1]\n",
      " [6 5 4]\n",
      " [9 8 7]]\n"
     ]
    }
   ],
   "source": [
    "# sort a 2D array by column\n",
    "matrix = np.array([[6, 5, 4], [3, 2, 1], [9, 8, 7]])\n",
    "print(f\"matrix:\\n{matrix}\")\n",
    "print(\"---------------------------------------------------------\")\n",
    "sorted_matrix = np.sort(matrix, axis=0) # sort by column\n",
    "print(f\"sorted matrix by column:\\n{sorted_matrix}\")"
   ]
  },
  {
   "cell_type": "code",
   "execution_count": 79,
   "id": "8c637d11",
   "metadata": {},
   "outputs": [
    {
     "name": "stdout",
     "output_type": "stream",
     "text": [
      "matrix:\n",
      "[[6 5 4]\n",
      " [3 2 1]\n",
      " [9 8 7]]\n",
      "---------------------------------------------------------\n",
      "sorted matrix by row:\n",
      "[[4 5 6]\n",
      " [1 2 3]\n",
      " [7 8 9]]\n"
     ]
    }
   ],
   "source": [
    "# sort a 2D array by row\n",
    "matrix = np.array([[6, 5, 4], [3, 2, 1], [9, 8, 7]])\n",
    "print(f\"matrix:\\n{matrix}\")\n",
    "print(\"---------------------------------------------------------\")\n",
    "sorted_matrix = np.sort(matrix, axis=1) # sort by row\n",
    "print(f\"sorted matrix by row:\\n{sorted_matrix}\")"
   ]
  },
  {
   "cell_type": "code",
   "execution_count": 80,
   "id": "97f68013",
   "metadata": {},
   "outputs": [
    {
     "name": "stdout",
     "output_type": "stream",
     "text": [
      "array: [1 2 3 4 5]\n",
      "---------------------------------------------------------\n"
     ]
    }
   ],
   "source": [
    "# save an array to a file\n",
    "arr = np.array([1, 2, 3, 4, 5])\n",
    "print(f\"array: {arr}\")\n",
    "print(\"---------------------------------------------------------\")\n",
    "np.save(\"array.npy\", arr) # save the array to a file"
   ]
  },
  {
   "cell_type": "code",
   "execution_count": 81,
   "id": "7c99f762",
   "metadata": {},
   "outputs": [
    {
     "name": "stdout",
     "output_type": "stream",
     "text": [
      "array: [1 2 3 4 5]\n",
      "---------------------------------------------------------\n",
      "clipped array: [2 2 3 4 4]\n"
     ]
    }
   ],
   "source": [
    "# limit values within a range\n",
    "arr = np.array([1, 2, 3, 4, 5])\n",
    "print(f\"array: {arr}\")\n",
    "print(\"---------------------------------------------------------\")\n",
    "clip_arr = np.clip(arr, 2, 4) # limit values between 2 and 4\n",
    "print(f\"clipped array: {clip_arr}\")"
   ]
  }
 ],
 "metadata": {
  "kernelspec": {
   "display_name": "data-analysis",
   "language": "python",
   "name": "python3"
  },
  "language_info": {
   "codemirror_mode": {
    "name": "ipython",
    "version": 3
   },
   "file_extension": ".py",
   "mimetype": "text/x-python",
   "name": "python",
   "nbconvert_exporter": "python",
   "pygments_lexer": "ipython3",
   "version": "3.10.18"
  }
 },
 "nbformat": 4,
 "nbformat_minor": 5
}
