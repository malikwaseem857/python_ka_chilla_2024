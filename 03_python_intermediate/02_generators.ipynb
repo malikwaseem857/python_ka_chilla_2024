{
 "cells": [
  {
   "cell_type": "markdown",
   "id": "fcc38d41",
   "metadata": {},
   "source": [
    "### Generators in python\n",
    "#### Auther: Waseem Akram "
   ]
  },
  {
   "cell_type": "code",
   "execution_count": 6,
   "id": "be11dbf0",
   "metadata": {},
   "outputs": [
    {
     "name": "stdout",
     "output_type": "stream",
     "text": [
      "A\n"
     ]
    }
   ],
   "source": [
    "# generator function \n",
    "def my_gen():\n",
    "    yield 'A'\n",
    "    yield 'B'\n",
    "    yield 'C'\n",
    "    yield 'D'\n",
    "\n",
    "# generator object\n",
    "g = my_gen()\n",
    "\n",
    "# print the generator object\n",
    "print(next(g))\n"
   ]
  },
  {
   "cell_type": "code",
   "execution_count": 7,
   "id": "fa0665a7",
   "metadata": {},
   "outputs": [
    {
     "name": "stdout",
     "output_type": "stream",
     "text": [
      "B\n"
     ]
    }
   ],
   "source": [
    "print(next(g))"
   ]
  },
  {
   "cell_type": "code",
   "execution_count": 8,
   "id": "0effe8e9",
   "metadata": {},
   "outputs": [
    {
     "name": "stdout",
     "output_type": "stream",
     "text": [
      "0\n",
      "1\n",
      "4\n",
      "9\n",
      "16\n",
      "0\n",
      "1\n",
      "4\n",
      "9\n",
      "16\n"
     ]
    }
   ],
   "source": [
    "# generator expression\n",
    "gen = (x**2 for x in range(5))\n",
    "for x in gen:\n",
    "    print(x)# generator expression\n",
    "gen = (x**2 for x in range(5))\n",
    "for x in gen:\n",
    "    print(x)"
   ]
  }
 ],
 "metadata": {
  "kernelspec": {
   "display_name": "base",
   "language": "python",
   "name": "python3"
  },
  "language_info": {
   "codemirror_mode": {
    "name": "ipython",
    "version": 3
   },
   "file_extension": ".py",
   "mimetype": "text/x-python",
   "name": "python",
   "nbconvert_exporter": "python",
   "pygments_lexer": "ipython3",
   "version": "3.13.5"
  }
 },
 "nbformat": 4,
 "nbformat_minor": 5
}
