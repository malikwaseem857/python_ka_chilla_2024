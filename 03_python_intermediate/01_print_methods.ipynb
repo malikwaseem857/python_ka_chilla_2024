{
 "cells": [
  {
   "cell_type": "markdown",
   "id": "5dfedc73",
   "metadata": {},
   "source": [
    "## Print function methods\n",
    "### Auther: Waseem Akram"
   ]
  },
  {
   "cell_type": "code",
   "execution_count": 1,
   "id": "f67bbfaf",
   "metadata": {},
   "outputs": [
    {
     "name": "stdout",
     "output_type": "stream",
     "text": [
      "My name is Waseem\n",
      "Hello, Codanics\n",
      "Hello Codanics\n",
      "Hello,Codanics\n",
      "Hello:Codanics\n"
     ]
    }
   ],
   "source": [
    "print(\"My name is Waseem\")\n",
    "print(\"Hello, Codanics\")\n",
    "print(\"Hello\", \"Codanics\")\n",
    "print(\"Hello\", \"Codanics\", sep=\",\")\n",
    "print(\"Hello\", \"Codanics\", sep=\":\", end=\"\\n\")"
   ]
  },
  {
   "cell_type": "code",
   "execution_count": 2,
   "id": "57fd8910",
   "metadata": {},
   "outputs": [
    {
     "name": "stdout",
     "output_type": "stream",
     "text": [
      "My name is Waseem and I am 20 years old. How are you?\n"
     ]
    }
   ],
   "source": [
    "# f-strings\n",
    "name = \"Waseem\"\n",
    "age = 20\n",
    "final = \"How are you?\"\n",
    "print(f\"My name is {name} and I am {age} years old. {final}\")"
   ]
  },
  {
   "cell_type": "code",
   "execution_count": 3,
   "id": "df3daa0a",
   "metadata": {},
   "outputs": [
    {
     "name": "stdout",
     "output_type": "stream",
     "text": [
      "My name is Waseem and I am 20 years old.\n",
      "How are you?\n"
     ]
    }
   ],
   "source": [
    "# f-strings with line break\n",
    "name = \"Waseem\"\n",
    "age = 20\n",
    "final = \"How are you?\"\n",
    "print(f\"My name is {name} and I am {age} years old.\\n{final}\")"
   ]
  },
  {
   "cell_type": "code",
   "execution_count": 4,
   "id": "0f172035",
   "metadata": {},
   "outputs": [
    {
     "name": "stdout",
     "output_type": "stream",
     "text": [
      "Hello, Codanics!\n"
     ]
    }
   ],
   "source": [
    "# str.format()\n",
    "print(\"Hello, {}!\".format(\"Codanics\"))"
   ]
  },
  {
   "cell_type": "code",
   "execution_count": 6,
   "id": "b2b13948",
   "metadata": {},
   "outputs": [
    {
     "name": "stdout",
     "output_type": "stream",
     "text": [
      "My name is Waseem and I am 20 years old.\n"
     ]
    }
   ],
   "source": [
    "# % formatting\n",
    "name = \"Waseem\"\n",
    "age = 20\n",
    "print(\"My name is %s and I am %d years old.\" % (name, age)) \n",
    "#%s for string, %d for integer"
   ]
  },
  {
   "cell_type": "code",
   "execution_count": 7,
   "id": "9fbc2072",
   "metadata": {},
   "outputs": [
    {
     "name": "stdout",
     "output_type": "stream",
     "text": [
      "Hello, Codanics"
     ]
    },
    {
     "data": {
      "text/plain": [
       "15"
      ]
     },
     "execution_count": 7,
     "metadata": {},
     "output_type": "execute_result"
    }
   ],
   "source": [
    "# sys.stdout.write()\n",
    "import sys\n",
    "sys.stdout.write(\"Hello, Codanics\")"
   ]
  },
  {
   "cell_type": "code",
   "execution_count": 8,
   "id": "97df1d1f",
   "metadata": {},
   "outputs": [
    {
     "name": "stdout",
     "output_type": "stream",
     "text": [
      "Hello!"
     ]
    }
   ],
   "source": [
    "# use end=\"\" in print\n",
    "print(\"Hello\", end=\"!\")"
   ]
  },
  {
   "cell_type": "code",
   "execution_count": 9,
   "id": "6e84c13b",
   "metadata": {},
   "outputs": [
    {
     "name": "stdout",
     "output_type": "stream",
     "text": [
      "Hello, Codanics!,\n",
      "How are you?\n",
      "      I am fine.\n"
     ]
    }
   ],
   "source": [
    "# multi-line print\n",
    "print(\"\"\"Hello, Codanics!,\n",
    "How are you?\n",
    "      I am fine.\"\"\")"
   ]
  },
  {
   "cell_type": "code",
   "execution_count": 10,
   "id": "1a06892c",
   "metadata": {},
   "outputs": [
    {
     "name": "stdout",
     "output_type": "stream",
     "text": [
      "My name is Waseem and I am 20 years old.\n",
      "How are you?\n"
     ]
    }
   ],
   "source": [
    "# f-string with multi-line\n",
    "name = \"Waseem\"\n",
    "age = 20\n",
    "final = \"How are you?\"\n",
    "print(f\"\"\"My name is {name} and I am {age} years old.\n",
    "{final}\"\"\")"
   ]
  },
  {
   "cell_type": "code",
   "execution_count": 13,
   "id": "cac01a58",
   "metadata": {},
   "outputs": [],
   "source": [
    "# Print to a file in forward path \n",
    "with open(\"./outputs/print_to.txt\", \"w\") as file:\n",
    "    print(\"Hello, Codanics!\", file=file)"
   ]
  },
  {
   "cell_type": "code",
   "execution_count": 15,
   "id": "a9ade551",
   "metadata": {},
   "outputs": [],
   "source": [
    "# Print to a file in previous directory\n",
    "with open(\"../print_to_file.txt\", \"w\") as file:\n",
    "    print(\"Hello, Codanics!\", file=file)"
   ]
  },
  {
   "cell_type": "code",
   "execution_count": 17,
   "id": "ca67d012",
   "metadata": {},
   "outputs": [
    {
     "name": "stdout",
     "output_type": "stream",
     "text": [
      "My name is Waseem and I am 20 years old.\n"
     ]
    }
   ],
   "source": [
    "# use of + operator to concatenate strings\n",
    "name = \"Waseem\"\n",
    "age = 20\n",
    "print(\"My name is \" + name + \" and I am \" + str(age) + \" years old.\")"
   ]
  },
  {
   "cell_type": "markdown",
   "id": "4c3db924",
   "metadata": {},
   "source": [
    "## Assignment: __str__ vs. __repr__\n",
    "### The __str__ and __repr__ methods are both used to create string representations of objects, but they serve different purposes. The __str__ method is for creating a readable output for users, while the __repr__ method is for creating a more formal, developer-facing representation of the object.\n",
    "### For this assignment, your task is to complete the Car class below by adding the __repr__ and __str__ methods.\n",
    "### Instructions:\n",
    "### 1.\tAdd the __repr__ method: This method should return a string that is a valid Python expression. For example, Car(make='Toyota', model='Corolla'). The goal is to create a representation that a developer could copy and paste to recreate the same object.\n",
    "### 2.\tAdd the __str__ method: This method should return a user-friendly string that describes the car. For example, \"A red Toyota Corolla\". The goal is to create a representation that is easy for a human to read.\n",
    "### 3.\tTest your code: Create an instance of the Car class and print it using the print() function. Then, print the repr() of the object to see the difference.\n"
   ]
  },
  {
   "cell_type": "code",
   "execution_count": null,
   "id": "3154c3a2",
   "metadata": {},
   "outputs": [
    {
     "name": "stdout",
     "output_type": "stream",
     "text": [
      "<__main__.Car object at 0x00000260B45E5940>\n",
      "<__main__.Car object at 0x00000260B45E5940>\n"
     ]
    }
   ],
   "source": [
    "## example of assignment\n",
    "class Car:\n",
    "    def __init__(self, make, model, color):\n",
    "        self.make = make\n",
    "        self.model = model\n",
    "        self.color = color\n",
    "\n",
    "    # Add the __repr__ method here\n",
    "\n",
    "    # Add the __str__ method here\n",
    "\n",
    "# Create an instance of the Car class\n",
    "my_car = Car(make=\"Honda\", model=\"Civic\", color=\"blue\")\n",
    "\n",
    "# Print the object\n",
    "print(my_car)\n",
    "\n",
    "# Print the formal representation of the object\n",
    "print(repr(my_car))"
   ]
  }
 ],
 "metadata": {
  "kernelspec": {
   "display_name": "base",
   "language": "python",
   "name": "python3"
  },
  "language_info": {
   "codemirror_mode": {
    "name": "ipython",
    "version": 3
   },
   "file_extension": ".py",
   "mimetype": "text/x-python",
   "name": "python",
   "nbconvert_exporter": "python",
   "pygments_lexer": "ipython3",
   "version": "3.13.5"
  }
 },
 "nbformat": 4,
 "nbformat_minor": 5
}
