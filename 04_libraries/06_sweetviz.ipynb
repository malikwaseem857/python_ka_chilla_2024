{
 "cells": [
  {
   "cell_type": "markdown",
   "id": "4ab2e4ff",
   "metadata": {},
   "source": [
    "# Sweetviz for EDA"
   ]
  },
  {
   "cell_type": "markdown",
   "id": "c397945c",
   "metadata": {},
   "source": [
    "Installation:\n",
    "conda create -n sweetviz -y python==3.10\n",
    "conda activate sweetviz\n",
    "pip install sweetviz pandas openpyxl ipykernel\n",
    "pip uninstall numpy -y\n",
    "conda install numpy==1.23.4 -y"
   ]
  },
  {
   "cell_type": "markdown",
   "id": "8f83939d",
   "metadata": {},
   "source": [
    "Use case"
   ]
  },
  {
   "cell_type": "code",
   "execution_count": 10,
   "id": "c8de499a",
   "metadata": {},
   "outputs": [
    {
     "name": "stderr",
     "output_type": "stream",
     "text": [
      "Done! Use 'show' commands to display/save.   |██████████| [100%]   00:03 -> (00:00 left)\n"
     ]
    },
    {
     "name": "stdout",
     "output_type": "stream",
     "text": [
      "Report ./sweetviz/titanic.html was generated! NOTEBOOK/COLAB USERS: the web browser MAY not pop up, regardless, the report IS saved in your notebook/colab files.\n"
     ]
    }
   ],
   "source": [
    "import pandas as pd\n",
    "import sweetviz as sv\n",
    "import tqdm as notebook_tqdm\n",
    "# import data\n",
    "df = pd.read_excel(\"./dataframes/titanic.xlsx\")\n",
    "my_report = sv.analyze(df)\n",
    "my_report.show_html(\"./sweetviz/titanic.html\") # Default arguments will generate to \"SWEETVIZ_REPORT.html\""
   ]
  },
  {
   "cell_type": "code",
   "execution_count": 11,
   "id": "7e51f177",
   "metadata": {},
   "outputs": [
    {
     "name": "stdout",
     "output_type": "stream",
     "text": [
      "Report ./sweetviz/titanic.html was generated! NOTEBOOK/COLAB USERS: the web browser MAY not pop up, regardless, the report IS saved in your notebook/colab files.\n"
     ]
    }
   ],
   "source": [
    "import os\n",
    "\n",
    "# create folder if it doesn't exist\n",
    "os.makedirs(\"./sweetviz\", exist_ok=True)\n",
    "\n",
    "# now safe to save\n",
    "my_report.show_html(\"./sweetviz/titanic.html\")\n"
   ]
  }
 ],
 "metadata": {
  "kernelspec": {
   "display_name": "sweetviz",
   "language": "python",
   "name": "python3"
  },
  "language_info": {
   "codemirror_mode": {
    "name": "ipython",
    "version": 3
   },
   "file_extension": ".py",
   "mimetype": "text/x-python",
   "name": "python",
   "nbconvert_exporter": "python",
   "pygments_lexer": "ipython3",
   "version": "3.10.0"
  }
 },
 "nbformat": 4,
 "nbformat_minor": 5
}
